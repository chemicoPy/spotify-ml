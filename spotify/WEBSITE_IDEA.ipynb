{
 "cells": [
  {
   "cell_type": "code",
   "execution_count": null,
   "metadata": {
    "collapsed": true
   },
   "outputs": [],
   "source": [
    "#For Classifier, either just use saved songs and set everythin else to not like\n",
    "#Or use some sort of 'expansion' formula to say that the stuff around it is okay\n",
    "#Regardless, we need to define a minimum value for number of songs.\n",
    "\n",
    "#As for acutal implemention, save a link to the classifier and the spotify profile url\n",
    "#Use the get-new-releases endpoint to get songs to look up.\n",
    "#Check songs till we have a specific number (5?)\n",
    "#Email or sned the user a message with the playlist, or just make the playlist as them?\n",
    "#Repeat daily or every couple of days."
   ]
  }
 ],
 "metadata": {
  "kernelspec": {
   "display_name": "Python 3",
   "language": "python",
   "name": "python3"
  },
  "language_info": {
   "codemirror_mode": {
    "name": "ipython",
    "version": 3
   },
   "file_extension": ".py",
   "mimetype": "text/x-python",
   "name": "python",
   "nbconvert_exporter": "python",
   "pygments_lexer": "ipython3",
   "version": "3.6.1"
  }
 },
 "nbformat": 4,
 "nbformat_minor": 2
}
