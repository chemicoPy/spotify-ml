{
 "cells": [
  {
   "cell_type": "code",
   "execution_count": 5,
   "metadata": {
    "collapsed": true,
    "scrolled": true
   },
   "outputs": [],
   "source": [
    "import pandas as pd \n",
    "import spotipy\n",
    "import spotipy.util as util\n",
    "sp = spotipy.Spotify() \n",
    "from spotipy.oauth2 import SpotifyClientCredentials \n",
    "from random import randint\n",
    "\n",
    "cid =\"0cadd882a6ab4ff485c80b8b02aa3b0c\" \n",
    "secret = \"04d0f737e18a4a92abee1da25d70766b\" \n",
    "username = \"USERNAME\"\n",
    "client_credentials_manager = SpotifyClientCredentials(client_id=cid, client_secret=secret) \n",
    "sp = spotipy.Spotify(client_credentials_manager=client_credentials_manager) \n",
    "sp.trace=False "
   ]
  },
  {
   "cell_type": "code",
   "execution_count": 26,
   "metadata": {},
   "outputs": [
    {
     "name": "stdout",
     "output_type": "stream",
     "text": [
      "2276\n"
     ]
    }
   ],
   "source": [
    "username = \"USERNAME\"\n",
    "scope = 'user-library-read playlist-read-private'\n",
    "token = util.prompt_for_user_token(username, scope)\n",
    "\n",
    "if token:\n",
    "    sp = spotipy.Spotify(auth=token)\n",
    "else:\n",
    "    print(\"Can't get token for\", username)\n",
    "\n",
    "good_playlist = sp.user_playlist(\"1287242681\", \"5OdH7PmotfAO7qDGxKdw3J\")\n",
    "bad_playlist = sp.user_playlist(\"1287242681\", \"3ySDAXYGUwRrp8C4ejIm9m\")\n",
    "\n",
    "good_tracks = good_playlist[\"tracks\"]\n",
    "good_songs = good_tracks[\"items\"] \n",
    "while good_tracks['next']:\n",
    "    good_tracks = sp.next(good_tracks)\n",
    "    for item in good_tracks[\"items\"]:\n",
    "        good_songs.append(item)\n",
    "good_ids = [] \n",
    "print(len(good_songs))\n",
    "for i in range(len(good_songs)- 500):\n",
    "    good_ids.append(good_songs[i]['track']['id'])\n",
    "# print(songs[0]['track']['id'])"
   ]
  },
  {
   "cell_type": "code",
   "execution_count": 20,
   "metadata": {},
   "outputs": [
    {
     "name": "stdout",
     "output_type": "stream",
     "text": [
      "2226\n"
     ]
    }
   ],
   "source": [
    "bad_tracks = bad_playlist[\"tracks\"]\n",
    "bad_songs = bad_tracks[\"items\"] \n",
    "while bad_tracks['next']:\n",
    "    bad_tracks = sp.next(bad_tracks)\n",
    "    for item in bad_tracks[\"items\"]:\n",
    "        bad_songs.append(item)\n",
    "bad_ids = [] \n",
    "print(len(bad_songs))\n",
    "for i in range(len(bad_songs)):\n",
    "    bad_ids.append(bad_songs[i]['track']['id'])"
   ]
  },
  {
   "cell_type": "code",
   "execution_count": 21,
   "metadata": {
    "scrolled": true
   },
   "outputs": [
    {
     "name": "stdout",
     "output_type": "stream",
     "text": [
      "1776\n"
     ]
    }
   ],
   "source": [
    "features = []\n",
    "inSavedTracks = []\n",
    "for i in range(0,len(good_ids),50):\n",
    "    audio_features = sp.audio_features(good_ids[i:i+50])\n",
    "    for track in audio_features:\n",
    "        features.append(track)\n",
    "        features[-1]['target'] = 1\n",
    "print(len(features))"
   ]
  },
  {
   "cell_type": "code",
   "execution_count": 22,
   "metadata": {},
   "outputs": [
    {
     "name": "stdout",
     "output_type": "stream",
     "text": [
      "4002\n"
     ]
    }
   ],
   "source": [
    "for i in range(0,len(bad_ids),50):\n",
    "    audio_features = sp.audio_features(bad_ids[i:i+50])\n",
    "    for track in audio_features:\n",
    "        features.append(track)\n",
    "        features[-1]['target'] = 0\n",
    "print(len(features))"
   ]
  },
  {
   "cell_type": "code",
   "execution_count": 23,
   "metadata": {
    "collapsed": true,
    "scrolled": true
   },
   "outputs": [],
   "source": [
    "df = pd.DataFrame(features)"
   ]
  },
  {
   "cell_type": "code",
   "execution_count": 24,
   "metadata": {
    "collapsed": true
   },
   "outputs": [],
   "source": [
    "filename = './data/mySpotify.csv'\n",
    "df.to_csv(filename, index=False, encoding='utf-8')"
   ]
  },
  {
   "cell_type": "code",
   "execution_count": 6,
   "metadata": {
    "scrolled": true
   },
   "outputs": [
    {
     "name": "stdout",
     "output_type": "stream",
     "text": [
      "30\n"
     ]
    }
   ],
   "source": [
    "indie = sp.user_playlist(\"spotify\", \"37i9dQZEVXcFqDuJHHirGk\")\n",
    "\n",
    "indie_tracks = indie[\"tracks\"]\n",
    "indie_songs = indie_tracks[\"items\"] \n",
    "while indie_tracks['next']:\n",
    "    indie_tracks = sp.next(indie_tracks)\n",
    "    for item in indie_tracks[\"items\"]:\n",
    "        indie_songs.append(item)\n",
    "indie_ids = [] \n",
    "print(len(indie_songs))\n",
    "for i in range(len(indie_songs)):\n",
    "    indie_ids.append(indie_songs[i]['track']['id'])"
   ]
  },
  {
   "cell_type": "code",
   "execution_count": 7,
   "metadata": {},
   "outputs": [
    {
     "name": "stdout",
     "output_type": "stream",
     "text": [
      "30\n"
     ]
    }
   ],
   "source": [
    "indie_features = []\n",
    "j = 0\n",
    "for i in range(0,len(indie_ids),50):\n",
    "    audio_features = sp.audio_features(indie_ids[i:i+50])\n",
    "    for track in audio_features:\n",
    "        track['song_title'] = indie_songs[j]['track']['name']\n",
    "        track['artist'] = indie_songs[j]['track']['artists'][0]['name']\n",
    "        j= j + 1\n",
    "        indie_features.append(track)\n",
    "print(len(indie_features))"
   ]
  },
  {
   "cell_type": "code",
   "execution_count": 8,
   "metadata": {
    "collapsed": true
   },
   "outputs": [],
   "source": [
    "df = pd.DataFrame(indie_features)\n",
    "filename = './data/indie.csv'\n",
    "df.to_csv(filename, index=False, encoding='utf-8')"
   ]
  }
 ],
 "metadata": {
  "kernelspec": {
   "display_name": "Python 3",
   "language": "python",
   "name": "python3"
  },
  "language_info": {
   "codemirror_mode": {
    "name": "ipython",
    "version": 3
   },
   "file_extension": ".py",
   "mimetype": "text/x-python",
   "name": "python",
   "nbconvert_exporter": "python",
   "pygments_lexer": "ipython3",
   "version": "3.5.2"
  }
 },
 "nbformat": 4,
 "nbformat_minor": 2
}
