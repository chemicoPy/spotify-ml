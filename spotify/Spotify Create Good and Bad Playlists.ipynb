{
 "cells": [
  {
   "cell_type": "code",
   "execution_count": 2,
   "metadata": {},
   "outputs": [
    {
     "ename": "ImportError",
     "evalue": "No module named 'spotipy'",
     "output_type": "error",
     "traceback": [
      "\u001b[0;31m---------------------------------------------------------------------------\u001b[0m",
      "\u001b[0;31mImportError\u001b[0m                               Traceback (most recent call last)",
      "\u001b[0;32m<ipython-input-2-a3a22d99655c>\u001b[0m in \u001b[0;36m<module>\u001b[0;34m()\u001b[0m\n\u001b[1;32m      1\u001b[0m \u001b[0;32mimport\u001b[0m \u001b[0mpandas\u001b[0m \u001b[0;32mas\u001b[0m \u001b[0mpd\u001b[0m\u001b[0;34m\u001b[0m\u001b[0m\n\u001b[0;32m----> 2\u001b[0;31m \u001b[0;32mimport\u001b[0m \u001b[0mspotipy\u001b[0m\u001b[0;34m\u001b[0m\u001b[0m\n\u001b[0m\u001b[1;32m      3\u001b[0m \u001b[0;32mimport\u001b[0m \u001b[0mspotipy\u001b[0m\u001b[0;34m.\u001b[0m\u001b[0mutil\u001b[0m \u001b[0;32mas\u001b[0m \u001b[0mutil\u001b[0m\u001b[0;34m\u001b[0m\u001b[0m\n\u001b[1;32m      4\u001b[0m \u001b[0msp\u001b[0m \u001b[0;34m=\u001b[0m \u001b[0mspotipy\u001b[0m\u001b[0;34m.\u001b[0m\u001b[0mSpotify\u001b[0m\u001b[0;34m(\u001b[0m\u001b[0;34m)\u001b[0m\u001b[0;34m\u001b[0m\u001b[0m\n\u001b[1;32m      5\u001b[0m \u001b[0;32mfrom\u001b[0m \u001b[0mspotipy\u001b[0m\u001b[0;34m.\u001b[0m\u001b[0moauth2\u001b[0m \u001b[0;32mimport\u001b[0m \u001b[0mSpotifyClientCredentials\u001b[0m\u001b[0;34m\u001b[0m\u001b[0m\n",
      "\u001b[0;31mImportError\u001b[0m: No module named 'spotipy'"
     ]
    }
   ],
   "source": [
    "import pandas as pd \n",
    "import spotipy\n",
    "import spotipy.util as util\n",
    "sp = spotipy.Spotify() \n",
    "from spotipy.oauth2 import SpotifyClientCredentials \n",
    "from random import randint\n",
    "\n",
    "cid =\"CLIENT-ID\" \n",
    "secret = \"SECRET\" \n",
    "username = \"USERNAME\"\n",
    "client_credentials_manager = SpotifyClientCredentials(client_id=cid, client_secret=secret) \n",
    "sp = spotipy.Spotify(client_credentials_manager=client_credentials_manager) \n",
    "sp.trace=False "
   ]
  },
  {
   "cell_type": "code",
   "execution_count": 22,
   "metadata": {
    "collapsed": true,
    "scrolled": true
   },
   "outputs": [],
   "source": [
    "username = \"USERNAME\"\n",
    "scope = 'playlist-modify-private playlist-read-private user-library-read'\n",
    "token = util.prompt_for_user_token(username, scope)\n",
    "#Good Playlist\n",
    "if token:\n",
    "    sp = spotipy.Spotify(auth=token)\n",
    "#     results = sp.current_user_saved_tracks()\n",
    "#     while results['next']:\n",
    "#         ids = []\n",
    "#         results = sp.next(results)\n",
    "#         for item in results['items']:\n",
    "#             track = item['track']\n",
    "#             ids.append(track['id'])\n",
    "#         sp.user_playlist_add_tracks(\"1287242681\", \"5OdH7PmotfAO7qDGxKdw3J\", ids)\n",
    "# else:\n",
    "#     print(\"Can't get token for\", username)\n",
    "    "
   ]
  },
  {
   "cell_type": "code",
   "execution_count": 26,
   "metadata": {},
   "outputs": [
    {
     "name": "stdout",
     "output_type": "stream",
     "text": [
      "1260\n",
      "1hLKGOpquBi12snIayBz3e\n"
     ]
    },
    {
     "ename": "SpotifyException",
     "evalue": "http status: 500, code:-1 - https://api.spotify.com/v1/users/1287242681/playlists/5OdH7PmotfAO7qDGxKdw3J/tracks:\n Server error.",
     "output_type": "error",
     "traceback": [
      "\u001b[0;31m---------------------------------------------------------------------------\u001b[0m",
      "\u001b[0;31mHTTPError\u001b[0m                                 Traceback (most recent call last)",
      "\u001b[0;32m/home/nick/anaconda3/lib/python3.6/site-packages/spotipy/client.py\u001b[0m in \u001b[0;36m_internal_call\u001b[0;34m(self, method, url, payload, params)\u001b[0m\n\u001b[1;32m    118\u001b[0m         \u001b[0;32mtry\u001b[0m\u001b[0;34m:\u001b[0m\u001b[0;34m\u001b[0m\u001b[0m\n\u001b[0;32m--> 119\u001b[0;31m             \u001b[0mr\u001b[0m\u001b[0;34m.\u001b[0m\u001b[0mraise_for_status\u001b[0m\u001b[0;34m(\u001b[0m\u001b[0;34m)\u001b[0m\u001b[0;34m\u001b[0m\u001b[0m\n\u001b[0m\u001b[1;32m    120\u001b[0m         \u001b[0;32mexcept\u001b[0m\u001b[0;34m:\u001b[0m\u001b[0;34m\u001b[0m\u001b[0m\n",
      "\u001b[0;32m/home/nick/anaconda3/lib/python3.6/site-packages/requests/models.py\u001b[0m in \u001b[0;36mraise_for_status\u001b[0;34m(self)\u001b[0m\n\u001b[1;32m    927\u001b[0m         \u001b[0;32mif\u001b[0m \u001b[0mhttp_error_msg\u001b[0m\u001b[0;34m:\u001b[0m\u001b[0;34m\u001b[0m\u001b[0m\n\u001b[0;32m--> 928\u001b[0;31m             \u001b[0;32mraise\u001b[0m \u001b[0mHTTPError\u001b[0m\u001b[0;34m(\u001b[0m\u001b[0mhttp_error_msg\u001b[0m\u001b[0;34m,\u001b[0m \u001b[0mresponse\u001b[0m\u001b[0;34m=\u001b[0m\u001b[0mself\u001b[0m\u001b[0;34m)\u001b[0m\u001b[0;34m\u001b[0m\u001b[0m\n\u001b[0m\u001b[1;32m    929\u001b[0m \u001b[0;34m\u001b[0m\u001b[0m\n",
      "\u001b[0;31mHTTPError\u001b[0m: 500 Server Error: Internal Server Error for url: https://api.spotify.com/v1/users/1287242681/playlists/5OdH7PmotfAO7qDGxKdw3J/tracks",
      "\nDuring handling of the above exception, another exception occurred:\n",
      "\u001b[0;31mSpotifyException\u001b[0m                          Traceback (most recent call last)",
      "\u001b[0;32m<ipython-input-26-08a3ff822f57>\u001b[0m in \u001b[0;36m<module>\u001b[0;34m()\u001b[0m\n\u001b[1;32m     12\u001b[0m \u001b[0mi\u001b[0m \u001b[0;34m=\u001b[0m \u001b[0;36m0\u001b[0m\u001b[0;34m\u001b[0m\u001b[0m\n\u001b[1;32m     13\u001b[0m \u001b[0;32mfor\u001b[0m \u001b[0mi\u001b[0m \u001b[0;32min\u001b[0m \u001b[0mrange\u001b[0m\u001b[0;34m(\u001b[0m\u001b[0mlen\u001b[0m\u001b[0;34m(\u001b[0m\u001b[0msongs\u001b[0m\u001b[0;34m)\u001b[0m\u001b[0;34m)\u001b[0m\u001b[0;34m:\u001b[0m\u001b[0;34m\u001b[0m\u001b[0m\n\u001b[0;32m---> 14\u001b[0;31m     \u001b[0msp\u001b[0m\u001b[0;34m.\u001b[0m\u001b[0muser_playlist_add_tracks\u001b[0m\u001b[0;34m(\u001b[0m\u001b[0;34m\"1287242681\"\u001b[0m\u001b[0;34m,\u001b[0m \u001b[0;34m\"5OdH7PmotfAO7qDGxKdw3J\"\u001b[0m\u001b[0;34m,\u001b[0m \u001b[0;34m[\u001b[0m\u001b[0msongs\u001b[0m\u001b[0;34m[\u001b[0m\u001b[0mi\u001b[0m\u001b[0;34m]\u001b[0m\u001b[0;34m[\u001b[0m\u001b[0;34m\"track\"\u001b[0m\u001b[0;34m]\u001b[0m\u001b[0;34m[\u001b[0m\u001b[0;34m\"id\"\u001b[0m\u001b[0;34m]\u001b[0m\u001b[0;34m]\u001b[0m\u001b[0;34m)\u001b[0m\u001b[0;34m\u001b[0m\u001b[0m\n\u001b[0m",
      "\u001b[0;32m/home/nick/anaconda3/lib/python3.6/site-packages/spotipy/client.py\u001b[0m in \u001b[0;36muser_playlist_add_tracks\u001b[0;34m(self, user, playlist_id, tracks, position)\u001b[0m\n\u001b[1;32m    455\u001b[0m         \u001b[0mftracks\u001b[0m \u001b[0;34m=\u001b[0m \u001b[0;34m[\u001b[0m\u001b[0mself\u001b[0m\u001b[0;34m.\u001b[0m\u001b[0m_get_uri\u001b[0m\u001b[0;34m(\u001b[0m\u001b[0;34m'track'\u001b[0m\u001b[0;34m,\u001b[0m \u001b[0mtid\u001b[0m\u001b[0;34m)\u001b[0m \u001b[0;32mfor\u001b[0m \u001b[0mtid\u001b[0m \u001b[0;32min\u001b[0m \u001b[0mtracks\u001b[0m\u001b[0;34m]\u001b[0m\u001b[0;34m\u001b[0m\u001b[0m\n\u001b[1;32m    456\u001b[0m         return self._post(\"users/%s/playlists/%s/tracks\" % (user, plid),\n\u001b[0;32m--> 457\u001b[0;31m                           payload=ftracks, position=position)\n\u001b[0m\u001b[1;32m    458\u001b[0m \u001b[0;34m\u001b[0m\u001b[0m\n\u001b[1;32m    459\u001b[0m     \u001b[0;32mdef\u001b[0m \u001b[0muser_playlist_replace_tracks\u001b[0m\u001b[0;34m(\u001b[0m\u001b[0mself\u001b[0m\u001b[0;34m,\u001b[0m \u001b[0muser\u001b[0m\u001b[0;34m,\u001b[0m \u001b[0mplaylist_id\u001b[0m\u001b[0;34m,\u001b[0m \u001b[0mtracks\u001b[0m\u001b[0;34m)\u001b[0m\u001b[0;34m:\u001b[0m\u001b[0;34m\u001b[0m\u001b[0m\n",
      "\u001b[0;32m/home/nick/anaconda3/lib/python3.6/site-packages/spotipy/client.py\u001b[0m in \u001b[0;36m_post\u001b[0;34m(self, url, args, payload, **kwargs)\u001b[0m\n\u001b[1;32m    176\u001b[0m         \u001b[0;32mif\u001b[0m \u001b[0margs\u001b[0m\u001b[0;34m:\u001b[0m\u001b[0;34m\u001b[0m\u001b[0m\n\u001b[1;32m    177\u001b[0m             \u001b[0mkwargs\u001b[0m\u001b[0;34m.\u001b[0m\u001b[0mupdate\u001b[0m\u001b[0;34m(\u001b[0m\u001b[0margs\u001b[0m\u001b[0;34m)\u001b[0m\u001b[0;34m\u001b[0m\u001b[0m\n\u001b[0;32m--> 178\u001b[0;31m         \u001b[0;32mreturn\u001b[0m \u001b[0mself\u001b[0m\u001b[0;34m.\u001b[0m\u001b[0m_internal_call\u001b[0m\u001b[0;34m(\u001b[0m\u001b[0;34m'POST'\u001b[0m\u001b[0;34m,\u001b[0m \u001b[0murl\u001b[0m\u001b[0;34m,\u001b[0m \u001b[0mpayload\u001b[0m\u001b[0;34m,\u001b[0m \u001b[0mkwargs\u001b[0m\u001b[0;34m)\u001b[0m\u001b[0;34m\u001b[0m\u001b[0m\n\u001b[0m\u001b[1;32m    179\u001b[0m \u001b[0;34m\u001b[0m\u001b[0m\n\u001b[1;32m    180\u001b[0m     \u001b[0;32mdef\u001b[0m \u001b[0m_delete\u001b[0m\u001b[0;34m(\u001b[0m\u001b[0mself\u001b[0m\u001b[0;34m,\u001b[0m \u001b[0murl\u001b[0m\u001b[0;34m,\u001b[0m \u001b[0margs\u001b[0m\u001b[0;34m=\u001b[0m\u001b[0;32mNone\u001b[0m\u001b[0;34m,\u001b[0m \u001b[0mpayload\u001b[0m\u001b[0;34m=\u001b[0m\u001b[0;32mNone\u001b[0m\u001b[0;34m,\u001b[0m \u001b[0;34m**\u001b[0m\u001b[0mkwargs\u001b[0m\u001b[0;34m)\u001b[0m\u001b[0;34m:\u001b[0m\u001b[0;34m\u001b[0m\u001b[0m\n",
      "\u001b[0;32m/home/nick/anaconda3/lib/python3.6/site-packages/spotipy/client.py\u001b[0m in \u001b[0;36m_internal_call\u001b[0;34m(self, method, url, payload, params)\u001b[0m\n\u001b[1;32m    122\u001b[0m                 raise SpotifyException(r.status_code,\n\u001b[1;32m    123\u001b[0m                     \u001b[0;34m-\u001b[0m\u001b[0;36m1\u001b[0m\u001b[0;34m,\u001b[0m \u001b[0;34m'%s:\\n %s'\u001b[0m \u001b[0;34m%\u001b[0m \u001b[0;34m(\u001b[0m\u001b[0mr\u001b[0m\u001b[0;34m.\u001b[0m\u001b[0murl\u001b[0m\u001b[0;34m,\u001b[0m \u001b[0mr\u001b[0m\u001b[0;34m.\u001b[0m\u001b[0mjson\u001b[0m\u001b[0;34m(\u001b[0m\u001b[0;34m)\u001b[0m\u001b[0;34m[\u001b[0m\u001b[0;34m'error'\u001b[0m\u001b[0;34m]\u001b[0m\u001b[0;34m[\u001b[0m\u001b[0;34m'message'\u001b[0m\u001b[0;34m]\u001b[0m\u001b[0;34m)\u001b[0m\u001b[0;34m,\u001b[0m\u001b[0;34m\u001b[0m\u001b[0m\n\u001b[0;32m--> 124\u001b[0;31m                     headers=r.headers)\n\u001b[0m\u001b[1;32m    125\u001b[0m             \u001b[0;32melse\u001b[0m\u001b[0;34m:\u001b[0m\u001b[0;34m\u001b[0m\u001b[0m\n\u001b[1;32m    126\u001b[0m                 raise SpotifyException(r.status_code,\n",
      "\u001b[0;31mSpotifyException\u001b[0m: http status: 500, code:-1 - https://api.spotify.com/v1/users/1287242681/playlists/5OdH7PmotfAO7qDGxKdw3J/tracks:\n Server error."
     ]
    }
   ],
   "source": [
    "#Good Playlist\n",
    "playlist = sp.user_playlist(\"suicidesheepify\", \"5EFG2g2Csw020N69ax0ac7\")\n",
    "tracks = playlist[\"tracks\"]\n",
    "songs = tracks[\"items\"] \n",
    "while tracks['next']:\n",
    "    tracks = sp.next(tracks)\n",
    "    for item in tracks[\"items\"]:\n",
    "        songs.append(item)\n",
    "ids = [] \n",
    "print(len(songs))\n",
    "print(songs[0]['track']['id'])\n",
    "i = 0\n",
    "for i in range(len(songs)):\n",
    "    sp.user_playlist_add_tracks(\"1287242681\", \"5OdH7PmotfAO7qDGxKdw3J\", [songs[i][\"track\"][\"id\"]])"
   ]
  },
  {
   "cell_type": "code",
   "execution_count": 4,
   "metadata": {},
   "outputs": [
    {
     "data": {
      "text/html": [
       "<div>\n",
       "<style>\n",
       "    .dataframe thead tr:only-child th {\n",
       "        text-align: right;\n",
       "    }\n",
       "\n",
       "    .dataframe thead th {\n",
       "        text-align: left;\n",
       "    }\n",
       "\n",
       "    .dataframe tbody tr th {\n",
       "        vertical-align: top;\n",
       "    }\n",
       "</style>\n",
       "<table border=\"1\" class=\"dataframe\">\n",
       "  <thead>\n",
       "    <tr style=\"text-align: right;\">\n",
       "      <th></th>\n",
       "      <th>playlist_title</th>\n",
       "      <th>user</th>\n",
       "      <th>playlistId</th>\n",
       "    </tr>\n",
       "  </thead>\n",
       "  <tbody>\n",
       "    <tr>\n",
       "      <th>0</th>\n",
       "      <td>The Sound of 's-hertogenbosch NL</td>\n",
       "      <td>thesoundsofspotify</td>\n",
       "      <td>05hbk3TBRfEne3xCIiI15m</td>\n",
       "    </tr>\n",
       "    <tr>\n",
       "      <th>1</th>\n",
       "      <td>The Sound of A Cappella</td>\n",
       "      <td>thesoundsofspotify</td>\n",
       "      <td>5K5Bo0zrf3aoNvvDpGWxdK</td>\n",
       "    </tr>\n",
       "    <tr>\n",
       "      <th>2</th>\n",
       "      <td>The Sound of A Coruña ES</td>\n",
       "      <td>thesoundsofspotify</td>\n",
       "      <td>07FayhdVKT6UFmbQbuEywo</td>\n",
       "    </tr>\n",
       "    <tr>\n",
       "      <th>3</th>\n",
       "      <td>The Sound of APO Armed Forces Europe</td>\n",
       "      <td>thesoundsofspotify</td>\n",
       "      <td>1kefW5zq9DbxjoUkkNBC30</td>\n",
       "    </tr>\n",
       "    <tr>\n",
       "      <th>4</th>\n",
       "      <td>The Sound of Aabenraa DK</td>\n",
       "      <td>thesoundsofspotify</td>\n",
       "      <td>6u7jfhRUNy54RbaGbfBotm</td>\n",
       "    </tr>\n",
       "  </tbody>\n",
       "</table>\n",
       "</div>"
      ],
      "text/plain": [
       "                         playlist_title                user  \\\n",
       "0      The Sound of 's-hertogenbosch NL  thesoundsofspotify   \n",
       "1               The Sound of A Cappella  thesoundsofspotify   \n",
       "2              The Sound of A Coruña ES  thesoundsofspotify   \n",
       "3  The Sound of APO Armed Forces Europe  thesoundsofspotify   \n",
       "4              The Sound of Aabenraa DK  thesoundsofspotify   \n",
       "\n",
       "               playlistId  \n",
       "0  05hbk3TBRfEne3xCIiI15m  \n",
       "1  5K5Bo0zrf3aoNvvDpGWxdK  \n",
       "2  07FayhdVKT6UFmbQbuEywo  \n",
       "3  1kefW5zq9DbxjoUkkNBC30  \n",
       "4  6u7jfhRUNy54RbaGbfBotm  "
      ]
     },
     "execution_count": 4,
     "metadata": {},
     "output_type": "execute_result"
    }
   ],
   "source": [
    "#Bad Playlist\n",
    "#sp.user_playlist_add_tracks(\"1287242681\", \"1UlFeD3AElsMTjOKmbinJx\", ids)\n",
    "data = pd.read_csv('data/playlistDump.csv')\n",
    "data.head()"
   ]
  },
  {
   "cell_type": "code",
   "execution_count": 20,
   "metadata": {
    "scrolled": true
   },
   "outputs": [
    {
     "name": "stdout",
     "output_type": "stream",
     "text": [
      "['5BmMjQp8OwPGdg7OOINCHm', '1hseduxVpn5p3ukaREgsSi', '72nKBOJxfLUr3iuUUMn2nV', '0VZfpqcbBUWC6kpP1vVrvA', '4mijVkpSXJziPiOrK7YX4M', '5LpV4RS7WgWaDyKxu0W60r', '1PzGsPdOacIEdFsZG92bOI', '2qk8D3ZyEBXDwR02alzjXq', '7DZDNqoxWp3uIgwTMHdBN6', '4fj8PNbbwGXBWHKodGQhfD', '2yykv7TMUr4jPHPAE8Q3vW', '5TqoG1t47RTBqODKy6xjdK', '208eKWeHXifDir7qV5DQYB', '6ZoVYWfvloSUP0sYwAk0Eg', '01b3JSy4UfA2iiKodhAXse', '42xcPVnKaE1gu7PScFIG9H', '5D1IoXQGtdt84Mx8QvvSSY', '4HbGCzaH6bTsF1FGAESEzG', '7yV5vLKdCyBDi4MW0It39c', '34X13zwfKF95I5PKO6GEKk', '0Hwb2a9DJdom4yoe5V41K9', '0RgxqbxFEgx3wnqabByQRg', '2BvxkVFgxGelSCrWV53I2o', '2xblssDewgd1AA5R7Lap6w', '7N35r1mrsCLe66LczBV7EQ', '1rLnwJimWCmjp3f0mEbnkY', '7K7eQm5eNmjvR1avm2Uikd', '7vyHBfRfPOT8Sxy87P5osJ', '72YNCrIywbtPaFgFSQNI6X', '68qffdP3LzsrDkrmrt0xKi', '0M2STcvX62sBK5YuLTE076', '3RtFvzIXD7ulUCXkWdIOWW', '2XFrsvPGbamN9w2C57a9hg', '6lMZE2UCxN6J7un54fIwAy', '4kG2qiyLY2O24LPEYMv6vf', '47quI8Re3ItWH8Rvn9HSvk', '5aYcWZehrK6hKtR3EiWdqb', '4tH5CLOMXHah6ngcr3Z2Gu', '5KudWqpwRKdH5CY6yQ1nwA', '62h3iZoEvjJrmy42ucMytJ', '4pkdnCP0Wo9Yg9Mn0XGmC8', '2Dsz5JxEeRz0nAC0plSEMF', '293CDKWmDYutJjtVGJaq3L', '6WxllqF4D8Gj8Veg1WBY0r', '3nxdNdIA45HbkTwzlqZjQ0', '6ye4xUHWNCBV1GNFQ4yNaj', '6LgnHN3mGCfSTnYy7Cd81C', '40C4RcHHLDxFUuBeMryCPw', '0Uq6sBasJecSFwXoQxRtbt', '5EyFMotmvSfDAZ4hSdKrbx', '6cgvY9wIuV29oh36jxytWC', '4ehHChcQBZTZ0kP9CkHdzc', '7m2b2nBy51rTT8kHKJ7HyK', '7HV8yRXe49LmIRGoQdt1j4', '3djem4UfHRQUBeOMxtpY3p', '3GomZqnwKeecLnI3sOkoEq', '0gRjtLM7ocp0jndjkncxOf', '5eKFlGWniCD4d70sY7tXGa', '6Pixe6bdAwQIkLv4q85U7E', '3bhnRBlvTikmxpW50jBaIZ', '4g8jY2NYAlj7sBdFHtrgdF', '7kQQGS5m9U07fe7CPWiql7', '0iMiZcvIy26MqHQln5kkrI', '0jB6UfkDXKDPt4Q5wYluty', '26PD3pjcSfPuKUDV1jgfX8', '7wx58jJTsUZs2EIzNfGHth', '4GMYsnPRt6GT3VARNJQeKt', '51YToRmnFC3U4iPj6LgHgF', '0XRhBXYCpp2CBuISbi8dgr', '066Ws83mBgawkpYWWvjmp6', '2lsqobg83L55zSnJ8z7MuV', '2XWuLY8J7ViTQ7Gl3ZV9KV', '4UUXB0Mz6E3VbmRdbi2o5P', '2ZazIXecBCVmTlbyKJHxOc', '0WRIEExyzsjtbPZsUOAURR']\n"
     ]
    },
    {
     "ename": "SpotifyException",
     "evalue": "http status: 500, code:-1 - https://api.spotify.com/v1/users/1287242681/playlists/3ySDAXYGUwRrp8C4ejIm9m/tracks:\n Server error.",
     "output_type": "error",
     "traceback": [
      "\u001b[0;31m---------------------------------------------------------------------------\u001b[0m",
      "\u001b[0;31mHTTPError\u001b[0m                                 Traceback (most recent call last)",
      "\u001b[0;32m/home/nick/anaconda3/lib/python3.6/site-packages/spotipy/client.py\u001b[0m in \u001b[0;36m_internal_call\u001b[0;34m(self, method, url, payload, params)\u001b[0m\n\u001b[1;32m    118\u001b[0m         \u001b[0;32mtry\u001b[0m\u001b[0;34m:\u001b[0m\u001b[0;34m\u001b[0m\u001b[0m\n\u001b[0;32m--> 119\u001b[0;31m             \u001b[0mr\u001b[0m\u001b[0;34m.\u001b[0m\u001b[0mraise_for_status\u001b[0m\u001b[0;34m(\u001b[0m\u001b[0;34m)\u001b[0m\u001b[0;34m\u001b[0m\u001b[0m\n\u001b[0m\u001b[1;32m    120\u001b[0m         \u001b[0;32mexcept\u001b[0m\u001b[0;34m:\u001b[0m\u001b[0;34m\u001b[0m\u001b[0m\n",
      "\u001b[0;32m/home/nick/anaconda3/lib/python3.6/site-packages/requests/models.py\u001b[0m in \u001b[0;36mraise_for_status\u001b[0;34m(self)\u001b[0m\n\u001b[1;32m    927\u001b[0m         \u001b[0;32mif\u001b[0m \u001b[0mhttp_error_msg\u001b[0m\u001b[0;34m:\u001b[0m\u001b[0;34m\u001b[0m\u001b[0m\n\u001b[0;32m--> 928\u001b[0;31m             \u001b[0;32mraise\u001b[0m \u001b[0mHTTPError\u001b[0m\u001b[0;34m(\u001b[0m\u001b[0mhttp_error_msg\u001b[0m\u001b[0;34m,\u001b[0m \u001b[0mresponse\u001b[0m\u001b[0;34m=\u001b[0m\u001b[0mself\u001b[0m\u001b[0;34m)\u001b[0m\u001b[0;34m\u001b[0m\u001b[0m\n\u001b[0m\u001b[1;32m    929\u001b[0m \u001b[0;34m\u001b[0m\u001b[0m\n",
      "\u001b[0;31mHTTPError\u001b[0m: 500 Server Error: Internal Server Error for url: https://api.spotify.com/v1/users/1287242681/playlists/3ySDAXYGUwRrp8C4ejIm9m/tracks",
      "\nDuring handling of the above exception, another exception occurred:\n",
      "\u001b[0;31mSpotifyException\u001b[0m                          Traceback (most recent call last)",
      "\u001b[0;32m<ipython-input-20-ba7e4d254553>\u001b[0m in \u001b[0;36m<module>\u001b[0;34m()\u001b[0m\n\u001b[1;32m     21\u001b[0m     \u001b[0;32mif\u001b[0m\u001b[0;34m(\u001b[0m\u001b[0mlen\u001b[0m\u001b[0;34m(\u001b[0m\u001b[0msongs\u001b[0m\u001b[0;34m)\u001b[0m\u001b[0;34m>\u001b[0m \u001b[0;36m50\u001b[0m\u001b[0;34m)\u001b[0m\u001b[0;34m:\u001b[0m\u001b[0;34m\u001b[0m\u001b[0m\n\u001b[1;32m     22\u001b[0m         \u001b[0;32mfor\u001b[0m \u001b[0mi\u001b[0m \u001b[0;32min\u001b[0m \u001b[0mrange\u001b[0m\u001b[0;34m(\u001b[0m\u001b[0mlen\u001b[0m\u001b[0;34m(\u001b[0m\u001b[0msongs\u001b[0m\u001b[0;34m)\u001b[0m\u001b[0;34m)\u001b[0m\u001b[0;34m:\u001b[0m\u001b[0;34m\u001b[0m\u001b[0m\n\u001b[0;32m---> 23\u001b[0;31m             \u001b[0msp\u001b[0m\u001b[0;34m.\u001b[0m\u001b[0muser_playlist_add_tracks\u001b[0m\u001b[0;34m(\u001b[0m\u001b[0;34m\"1287242681\"\u001b[0m\u001b[0;34m,\u001b[0m \u001b[0;34m\"3ySDAXYGUwRrp8C4ejIm9m\"\u001b[0m\u001b[0;34m,\u001b[0m \u001b[0;34m[\u001b[0m\u001b[0msongs\u001b[0m\u001b[0;34m[\u001b[0m\u001b[0mi\u001b[0m\u001b[0;34m]\u001b[0m\u001b[0;34m[\u001b[0m\u001b[0;34m'track'\u001b[0m\u001b[0;34m]\u001b[0m\u001b[0;34m[\u001b[0m\u001b[0;34m'id'\u001b[0m\u001b[0;34m]\u001b[0m\u001b[0;34m]\u001b[0m\u001b[0;34m)\u001b[0m\u001b[0;34m\u001b[0m\u001b[0m\n\u001b[0m\u001b[1;32m     24\u001b[0m     \u001b[0;32melse\u001b[0m\u001b[0;34m:\u001b[0m\u001b[0;34m\u001b[0m\u001b[0m\n\u001b[1;32m     25\u001b[0m         \u001b[0;32mfor\u001b[0m \u001b[0mi\u001b[0m \u001b[0;32min\u001b[0m \u001b[0mrange\u001b[0m\u001b[0;34m(\u001b[0m\u001b[0mlen\u001b[0m\u001b[0;34m(\u001b[0m\u001b[0msongs\u001b[0m\u001b[0;34m)\u001b[0m\u001b[0;34m)\u001b[0m\u001b[0;34m:\u001b[0m\u001b[0;34m\u001b[0m\u001b[0m\n",
      "\u001b[0;32m/home/nick/anaconda3/lib/python3.6/site-packages/spotipy/client.py\u001b[0m in \u001b[0;36muser_playlist_add_tracks\u001b[0;34m(self, user, playlist_id, tracks, position)\u001b[0m\n\u001b[1;32m    455\u001b[0m         \u001b[0mftracks\u001b[0m \u001b[0;34m=\u001b[0m \u001b[0;34m[\u001b[0m\u001b[0mself\u001b[0m\u001b[0;34m.\u001b[0m\u001b[0m_get_uri\u001b[0m\u001b[0;34m(\u001b[0m\u001b[0;34m'track'\u001b[0m\u001b[0;34m,\u001b[0m \u001b[0mtid\u001b[0m\u001b[0;34m)\u001b[0m \u001b[0;32mfor\u001b[0m \u001b[0mtid\u001b[0m \u001b[0;32min\u001b[0m \u001b[0mtracks\u001b[0m\u001b[0;34m]\u001b[0m\u001b[0;34m\u001b[0m\u001b[0m\n\u001b[1;32m    456\u001b[0m         return self._post(\"users/%s/playlists/%s/tracks\" % (user, plid),\n\u001b[0;32m--> 457\u001b[0;31m                           payload=ftracks, position=position)\n\u001b[0m\u001b[1;32m    458\u001b[0m \u001b[0;34m\u001b[0m\u001b[0m\n\u001b[1;32m    459\u001b[0m     \u001b[0;32mdef\u001b[0m \u001b[0muser_playlist_replace_tracks\u001b[0m\u001b[0;34m(\u001b[0m\u001b[0mself\u001b[0m\u001b[0;34m,\u001b[0m \u001b[0muser\u001b[0m\u001b[0;34m,\u001b[0m \u001b[0mplaylist_id\u001b[0m\u001b[0;34m,\u001b[0m \u001b[0mtracks\u001b[0m\u001b[0;34m)\u001b[0m\u001b[0;34m:\u001b[0m\u001b[0;34m\u001b[0m\u001b[0m\n",
      "\u001b[0;32m/home/nick/anaconda3/lib/python3.6/site-packages/spotipy/client.py\u001b[0m in \u001b[0;36m_post\u001b[0;34m(self, url, args, payload, **kwargs)\u001b[0m\n\u001b[1;32m    176\u001b[0m         \u001b[0;32mif\u001b[0m \u001b[0margs\u001b[0m\u001b[0;34m:\u001b[0m\u001b[0;34m\u001b[0m\u001b[0m\n\u001b[1;32m    177\u001b[0m             \u001b[0mkwargs\u001b[0m\u001b[0;34m.\u001b[0m\u001b[0mupdate\u001b[0m\u001b[0;34m(\u001b[0m\u001b[0margs\u001b[0m\u001b[0;34m)\u001b[0m\u001b[0;34m\u001b[0m\u001b[0m\n\u001b[0;32m--> 178\u001b[0;31m         \u001b[0;32mreturn\u001b[0m \u001b[0mself\u001b[0m\u001b[0;34m.\u001b[0m\u001b[0m_internal_call\u001b[0m\u001b[0;34m(\u001b[0m\u001b[0;34m'POST'\u001b[0m\u001b[0;34m,\u001b[0m \u001b[0murl\u001b[0m\u001b[0;34m,\u001b[0m \u001b[0mpayload\u001b[0m\u001b[0;34m,\u001b[0m \u001b[0mkwargs\u001b[0m\u001b[0;34m)\u001b[0m\u001b[0;34m\u001b[0m\u001b[0m\n\u001b[0m\u001b[1;32m    179\u001b[0m \u001b[0;34m\u001b[0m\u001b[0m\n\u001b[1;32m    180\u001b[0m     \u001b[0;32mdef\u001b[0m \u001b[0m_delete\u001b[0m\u001b[0;34m(\u001b[0m\u001b[0mself\u001b[0m\u001b[0;34m,\u001b[0m \u001b[0murl\u001b[0m\u001b[0;34m,\u001b[0m \u001b[0margs\u001b[0m\u001b[0;34m=\u001b[0m\u001b[0;32mNone\u001b[0m\u001b[0;34m,\u001b[0m \u001b[0mpayload\u001b[0m\u001b[0;34m=\u001b[0m\u001b[0;32mNone\u001b[0m\u001b[0;34m,\u001b[0m \u001b[0;34m**\u001b[0m\u001b[0mkwargs\u001b[0m\u001b[0;34m)\u001b[0m\u001b[0;34m:\u001b[0m\u001b[0;34m\u001b[0m\u001b[0m\n",
      "\u001b[0;32m/home/nick/anaconda3/lib/python3.6/site-packages/spotipy/client.py\u001b[0m in \u001b[0;36m_internal_call\u001b[0;34m(self, method, url, payload, params)\u001b[0m\n\u001b[1;32m    122\u001b[0m                 raise SpotifyException(r.status_code,\n\u001b[1;32m    123\u001b[0m                     \u001b[0;34m-\u001b[0m\u001b[0;36m1\u001b[0m\u001b[0;34m,\u001b[0m \u001b[0;34m'%s:\\n %s'\u001b[0m \u001b[0;34m%\u001b[0m \u001b[0;34m(\u001b[0m\u001b[0mr\u001b[0m\u001b[0;34m.\u001b[0m\u001b[0murl\u001b[0m\u001b[0;34m,\u001b[0m \u001b[0mr\u001b[0m\u001b[0;34m.\u001b[0m\u001b[0mjson\u001b[0m\u001b[0;34m(\u001b[0m\u001b[0;34m)\u001b[0m\u001b[0;34m[\u001b[0m\u001b[0;34m'error'\u001b[0m\u001b[0;34m]\u001b[0m\u001b[0;34m[\u001b[0m\u001b[0;34m'message'\u001b[0m\u001b[0;34m]\u001b[0m\u001b[0;34m)\u001b[0m\u001b[0;34m,\u001b[0m\u001b[0;34m\u001b[0m\u001b[0m\n\u001b[0;32m--> 124\u001b[0;31m                     headers=r.headers)\n\u001b[0m\u001b[1;32m    125\u001b[0m             \u001b[0;32melse\u001b[0m\u001b[0;34m:\u001b[0m\u001b[0;34m\u001b[0m\u001b[0m\n\u001b[1;32m    126\u001b[0m                 raise SpotifyException(r.status_code,\n",
      "\u001b[0;31mSpotifyException\u001b[0m: http status: 500, code:-1 - https://api.spotify.com/v1/users/1287242681/playlists/3ySDAXYGUwRrp8C4ejIm9m/tracks:\n Server error."
     ]
    }
   ],
   "source": [
    "bad_playlists = []\n",
    "for playlist_id in data[data['playlist_title'].str.contains(\"Country\")]['playlistId']:\n",
    "    bad_playlists.append(playlist_id)\n",
    "for playlist_id in data[data['playlist_title'].str.contains(\"R&B\")]['playlistId']:\n",
    "        bad_playlists.append(playlist_id)\n",
    "for playlist_id in data[data['playlist_title'].str.contains(\"Jazz\")]['playlistId']:\n",
    "        bad_playlists.append(playlist_id)\n",
    "        \n",
    "print(bad_playlists)\n",
    "\n",
    "for playlist_id in bad_playlists:\n",
    "    playlist = sp.user_playlist(\"thesoundsofspotify\", playlist_id)\n",
    "    tracks = playlist[\"tracks\"]\n",
    "    songs = tracks[\"items\"] \n",
    "    while tracks['next']:\n",
    "        tracks = sp.next(tracks)\n",
    "        for item in tracks[\"items\"]:\n",
    "            songs.append(item)\n",
    "    ids = [] \n",
    "    i = 0\n",
    "    if(len(songs)> 50):\n",
    "        for i in range(len(songs)):\n",
    "            sp.user_playlist_add_tracks(\"1287242681\", \"3ySDAXYGUwRrp8C4ejIm9m\", [songs[i]['track']['id']])\n",
    "    else:\n",
    "        for i in range(len(songs)):\n",
    "            ids.append(songs[i][\"track\"][\"id\"])\n",
    "        sp.user_playlist_add_tracks(\"1287242681\", \"3ySDAXYGUwRrp8C4ejIm9m\", ids)"
   ]
  },
  {
   "cell_type": "code",
   "execution_count": null,
   "metadata": {
    "collapsed": true
   },
   "outputs": [],
   "source": []
  }
 ],
 "metadata": {
  "kernelspec": {
   "display_name": "Python 3",
   "language": "python",
   "name": "python3"
  },
  "language_info": {
   "codemirror_mode": {
    "name": "ipython",
    "version": 3
   },
   "file_extension": ".py",
   "mimetype": "text/x-python",
   "name": "python",
   "nbconvert_exporter": "python",
   "pygments_lexer": "ipython3",
   "version": "3.5.2"
  }
 },
 "nbformat": 4,
 "nbformat_minor": 2
}
