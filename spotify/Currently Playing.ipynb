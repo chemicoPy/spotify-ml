{
 "cells": [
  {
   "cell_type": "code",
   "execution_count": 8,
   "metadata": {
    "collapsed": true
   },
   "outputs": [],
   "source": [
    "import pandas as pd \n",
    "import spotipy\n",
    "import spotipy.util as util\n",
    "sp = spotipy.Spotify() \n",
    "from spotipy.oauth2 import SpotifyClientCredentials \n",
    "from random import randint\n",
    "\n",
    "cid =\"0cadd882a6ab4ff485c80b8b02aa3b0c\" \n",
    "secret = \"04d0f737e18a4a92abee1da25d70766b\" \n",
    "client_credentials_manager = SpotifyClientCredentials(client_id=cid, client_secret=secret) \n",
    "sp = spotipy.Spotify(client_credentials_manager=client_credentials_manager) \n",
    "sp.trace=False "
   ]
  },
  {
   "cell_type": "code",
   "execution_count": 19,
   "metadata": {
    "scrolled": true
   },
   "outputs": [
    {
     "name": "stdout",
     "output_type": "stream",
     "text": [
      "Pull The Trigger - Russ\n"
     ]
    }
   ],
   "source": [
    "scope = 'user-read-currently-playing'\n",
    "# scope = 'user-read-playback-state'\n",
    "# works as well\n",
    "\n",
    "token = util.prompt_for_user_token(\"username\", scope, client_id=\"0eefcdafe36f4f409e66451029dce207\", client_secret=\"5f8dad780efc410ababb866c21483c6c\")\n",
    "\n",
    "spotify = spotipy.Spotify(auth=token)\n",
    "current_track = spotify._get(\"me/player/currently-playing\")\n",
    "\n",
    "print(current_track[\"item\"][\"name\"] + \" - \"+ current_track[\"item\"][\"artists\"][0][\"name\"])"
   ]
  },
  {
   "cell_type": "code",
   "execution_count": 10,
   "metadata": {},
   "outputs": [
    {
     "name": "stdout",
     "output_type": "stream",
     "text": [
      "31\n",
      "66\n",
      "Girls Like You (Tarro Remix) by: Blackbear\n",
      "Dear Ana by: Matthew Koma\n",
      "With You (Hazey Eyes Remix) [feat. Quinn XCII] by: Illenium\n",
      "For You (feat. Hvnnibvl) by: Evix\n",
      "Matches - ye. Remix by: Cash Cash\n",
      "Mattress by: Leland\n",
      "Vicodin by: CVBZ\n",
      "Make You Mine by: Aire Atlantica\n",
      "Oceans Away by: OKO\n",
      "Get Home by: R.O\n",
      "Made Of Something by: bvd kult\n",
      "I Hate U, I Love U / Rumours by: Thoreau\n",
      "Pilot by: Impala\n",
      "No Sleep (TIFA Remix) by: Munchie Squad\n",
      "Wasted Youth by: FLETCHER\n",
      "Love Somebody by: Justin Caruso\n",
      "Coldhearted by: Bryce Fox\n",
      "Stories by: Sam Berson\n",
      "Walls by: Wingtip\n",
      "Walls by: Madds\n",
      "Drowning by: DELAY.\n",
      "Do You Still Feel? (feat. MAX) by: Rain Man\n",
      "Rise by: WE ARE FURY\n"
     ]
    }
   ],
   "source": [
    "username = \"\"\n",
    "scope = 'user-library-read playlist-read-private'\n",
    "token = util.prompt_for_user_token(username, scope)\n",
    "\n",
    "if token:\n",
    "    sp = spotipy.Spotify(auth=token)\n",
    "else:\n",
    "    print(\"Can't get token for\", username)\n",
    "    \n",
    "human_likes = sp.user_playlist(\"1287242681\", \"4alCqRkf8jIDAaeQlPapE8\")\n",
    "machine_likes = sp.user_playlist(\"1287242681\", \"7eIX1zvtpZR3M3rYFVA7DF\")\n",
    "\n",
    "human_tracks = human_likes[\"tracks\"]\n",
    "machine_tracks = machine_likes['tracks']\n",
    "print(len(human_tracks[\"items\"]))\n",
    "print(len(machine_tracks[\"items\"]))\n",
    "for track in human_tracks['items']:\n",
    "    for machine_track in machine_tracks['items']:\n",
    "        if (track['track']['name'] == machine_track['track']['name']):\n",
    "            print(track['track']['name']+\" by: \"+machine_track['track']['artists'][0]['name'])"
   ]
  }
 ],
 "metadata": {
  "kernelspec": {
   "display_name": "Python 3",
   "language": "python",
   "name": "python3"
  },
  "language_info": {
   "codemirror_mode": {
    "name": "ipython",
    "version": 3
   },
   "file_extension": ".py",
   "mimetype": "text/x-python",
   "name": "python",
   "nbconvert_exporter": "python",
   "pygments_lexer": "ipython3",
   "version": "3.6.1"
  }
 },
 "nbformat": 4,
 "nbformat_minor": 2
}
