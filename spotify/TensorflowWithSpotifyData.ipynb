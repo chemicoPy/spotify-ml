{
 "cells": [
  {
   "cell_type": "code",
   "execution_count": 50,
   "metadata": {
    "colab": {
     "autoexec": {
      "startup": false,
      "wait_interval": 0
     },
     "base_uri": "https://localhost:8080/",
     "height": 55,
     "output_extras": [
      {
       "item_id": 1
      }
     ],
     "resources": {
      "http://localhost:8080/nbextensions/google.colab/files.js": {
       "data": "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",
       "headers": [
        [
         "content-type",
         "application/javascript"
        ]
       ],
       "ok": true,
       "status": 200,
       "status_text": ""
      }
     }
    },
    "colab_type": "code",
    "executionInfo": {
     "elapsed": 16324,
     "status": "ok",
     "timestamp": 1515083207862,
     "user": {
      "displayName": "nab0310",
      "photoUrl": "https://lh3.googleusercontent.com/a/default-user=s128",
      "userId": "114251931762273045585"
     },
     "user_tz": 360
    },
    "id": "6SNE_4jNmgk4",
    "outputId": "3f75f67a-9604-4427-dcc9-21617c66941b"
   },
   "outputs": [
    {
     "data": {
      "text/html": [
       "\n",
       "     <input type=\"file\" id=\"files-a3bfd3e1-7087-46db-956e-76f3abd347fe\" name=\"files[]\" multiple disabled />\n",
       "     <output id=\"result-a3bfd3e1-7087-46db-956e-76f3abd347fe\">\n",
       "      Upload widget is only available when the cell has been executed in the\n",
       "      current browser session. Please rerun this cell to enable.\n",
       "      </output>\n",
       "      <script src=\"/nbextensions/google.colab/files.js\"</script> "
      ],
      "text/plain": [
       "<IPython.core.display.HTML object>"
      ]
     },
     "metadata": {
      "tags": []
     },
     "output_type": "display_data"
    }
   ],
   "source": [
    "#Uploading the Dataset \n",
    "from google.colab import files\n",
    "uploaded = files.upload()"
   ]
  },
  {
   "cell_type": "code",
   "execution_count": 0,
   "metadata": {
    "colab": {
     "autoexec": {
      "startup": false,
      "wait_interval": 0
     }
    },
    "colab_type": "code",
    "id": "ByYmDZoeqQEM"
   },
   "outputs": [],
   "source": [
    "#Save uploaded file on the Virtual Machine's \n",
    "#Thanks to user3800642 from StackOverflow \n",
    "\n",
    "with open(\"data.csv\", 'w') as f:\n",
    "    f.write(uploaded[uploaded.keys()[0]])"
   ]
  },
  {
   "cell_type": "code",
   "execution_count": 1,
   "metadata": {
    "colab": {
     "autoexec": {
      "startup": false,
      "wait_interval": 0
     }
    },
    "colab_type": "code",
    "id": "Im9evGaOplaE"
   },
   "outputs": [],
   "source": [
    "import numpy as np\n",
    "import pandas as pd"
   ]
  },
  {
   "cell_type": "code",
   "execution_count": 53,
   "metadata": {
    "colab": {
     "autoexec": {
      "startup": false,
      "wait_interval": 0
     },
     "base_uri": "https://localhost:8080/",
     "height": 309,
     "output_extras": [
      {
       "item_id": 1
      }
     ]
    },
    "colab_type": "code",
    "executionInfo": {
     "elapsed": 435,
     "status": "ok",
     "timestamp": 1515083209567,
     "user": {
      "displayName": "nab0310",
      "photoUrl": "https://lh3.googleusercontent.com/a/default-user=s128",
      "userId": "114251931762273045585"
     },
     "user_tz": 360
    },
    "id": "AdmqknxomlTP",
    "outputId": "7b959db2-c32a-4b94-83e4-bfeb654f29e9"
   },
   "outputs": [
    {
     "data": {
      "text/html": [
       "<div>\n",
       "<style>\n",
       "    .dataframe thead tr:only-child th {\n",
       "        text-align: right;\n",
       "    }\n",
       "\n",
       "    .dataframe thead th {\n",
       "        text-align: left;\n",
       "    }\n",
       "\n",
       "    .dataframe tbody tr th {\n",
       "        vertical-align: top;\n",
       "    }\n",
       "</style>\n",
       "<table border=\"1\" class=\"dataframe\">\n",
       "  <thead>\n",
       "    <tr style=\"text-align: right;\">\n",
       "      <th></th>\n",
       "      <th>acousticness</th>\n",
       "      <th>analysis_url</th>\n",
       "      <th>danceability</th>\n",
       "      <th>duration_ms</th>\n",
       "      <th>energy</th>\n",
       "      <th>id</th>\n",
       "      <th>instrumentalness</th>\n",
       "      <th>key</th>\n",
       "      <th>liveness</th>\n",
       "      <th>loudness</th>\n",
       "      <th>mode</th>\n",
       "      <th>speechiness</th>\n",
       "      <th>target</th>\n",
       "      <th>tempo</th>\n",
       "      <th>time_signature</th>\n",
       "      <th>track_href</th>\n",
       "      <th>type</th>\n",
       "      <th>uri</th>\n",
       "      <th>valence</th>\n",
       "    </tr>\n",
       "  </thead>\n",
       "  <tbody>\n",
       "    <tr>\n",
       "      <th>0</th>\n",
       "      <td>0.161</td>\n",
       "      <td>https://api.spotify.com/v1/audio-analysis/7eEl...</td>\n",
       "      <td>0.787</td>\n",
       "      <td>197236</td>\n",
       "      <td>0.484</td>\n",
       "      <td>7eElVgPcxDqmgGrSwVFI74</td>\n",
       "      <td>0.004740</td>\n",
       "      <td>6</td>\n",
       "      <td>0.1350</td>\n",
       "      <td>-10.338</td>\n",
       "      <td>1</td>\n",
       "      <td>0.1960</td>\n",
       "      <td>1</td>\n",
       "      <td>107.925</td>\n",
       "      <td>4</td>\n",
       "      <td>https://api.spotify.com/v1/tracks/7eElVgPcxDqm...</td>\n",
       "      <td>audio_features</td>\n",
       "      <td>spotify:track:7eElVgPcxDqmgGrSwVFI74</td>\n",
       "      <td>0.485</td>\n",
       "    </tr>\n",
       "    <tr>\n",
       "      <th>1</th>\n",
       "      <td>0.223</td>\n",
       "      <td>https://api.spotify.com/v1/audio-analysis/02oA...</td>\n",
       "      <td>0.757</td>\n",
       "      <td>189796</td>\n",
       "      <td>0.437</td>\n",
       "      <td>02oAUzv4M0ItuTDy2RT3IT</td>\n",
       "      <td>0.000001</td>\n",
       "      <td>10</td>\n",
       "      <td>0.0921</td>\n",
       "      <td>-5.540</td>\n",
       "      <td>1</td>\n",
       "      <td>0.0625</td>\n",
       "      <td>1</td>\n",
       "      <td>106.953</td>\n",
       "      <td>4</td>\n",
       "      <td>https://api.spotify.com/v1/tracks/02oAUzv4M0It...</td>\n",
       "      <td>audio_features</td>\n",
       "      <td>spotify:track:02oAUzv4M0ItuTDy2RT3IT</td>\n",
       "      <td>0.232</td>\n",
       "    </tr>\n",
       "    <tr>\n",
       "      <th>2</th>\n",
       "      <td>0.285</td>\n",
       "      <td>https://api.spotify.com/v1/audio-analysis/5q4B...</td>\n",
       "      <td>0.646</td>\n",
       "      <td>271088</td>\n",
       "      <td>0.376</td>\n",
       "      <td>5q4BpnMrYEFzLO0dYODj6J</td>\n",
       "      <td>0.009510</td>\n",
       "      <td>0</td>\n",
       "      <td>0.0899</td>\n",
       "      <td>-10.054</td>\n",
       "      <td>1</td>\n",
       "      <td>0.0478</td>\n",
       "      <td>1</td>\n",
       "      <td>123.172</td>\n",
       "      <td>4</td>\n",
       "      <td>https://api.spotify.com/v1/tracks/5q4BpnMrYEFz...</td>\n",
       "      <td>audio_features</td>\n",
       "      <td>spotify:track:5q4BpnMrYEFzLO0dYODj6J</td>\n",
       "      <td>0.142</td>\n",
       "    </tr>\n",
       "    <tr>\n",
       "      <th>3</th>\n",
       "      <td>0.920</td>\n",
       "      <td>https://api.spotify.com/v1/audio-analysis/6Kkt...</td>\n",
       "      <td>0.575</td>\n",
       "      <td>171728</td>\n",
       "      <td>0.220</td>\n",
       "      <td>6Kkt27YmFyIFrcX3QXFi2o</td>\n",
       "      <td>0.000000</td>\n",
       "      <td>10</td>\n",
       "      <td>0.0962</td>\n",
       "      <td>-11.178</td>\n",
       "      <td>0</td>\n",
       "      <td>0.0992</td>\n",
       "      <td>1</td>\n",
       "      <td>81.601</td>\n",
       "      <td>4</td>\n",
       "      <td>https://api.spotify.com/v1/tracks/6Kkt27YmFyIF...</td>\n",
       "      <td>audio_features</td>\n",
       "      <td>spotify:track:6Kkt27YmFyIFrcX3QXFi2o</td>\n",
       "      <td>0.351</td>\n",
       "    </tr>\n",
       "    <tr>\n",
       "      <th>4</th>\n",
       "      <td>0.030</td>\n",
       "      <td>https://api.spotify.com/v1/audio-analysis/1Dp7...</td>\n",
       "      <td>0.470</td>\n",
       "      <td>367391</td>\n",
       "      <td>0.450</td>\n",
       "      <td>1Dp7JGFNjvg8Nk0CtMCcnr</td>\n",
       "      <td>0.009280</td>\n",
       "      <td>1</td>\n",
       "      <td>0.0781</td>\n",
       "      <td>-10.963</td>\n",
       "      <td>0</td>\n",
       "      <td>0.2010</td>\n",
       "      <td>1</td>\n",
       "      <td>149.999</td>\n",
       "      <td>4</td>\n",
       "      <td>https://api.spotify.com/v1/tracks/1Dp7JGFNjvg8...</td>\n",
       "      <td>audio_features</td>\n",
       "      <td>spotify:track:1Dp7JGFNjvg8Nk0CtMCcnr</td>\n",
       "      <td>0.175</td>\n",
       "    </tr>\n",
       "  </tbody>\n",
       "</table>\n",
       "</div>"
      ],
      "text/plain": [
       "   acousticness                                       analysis_url  \\\n",
       "0         0.161  https://api.spotify.com/v1/audio-analysis/7eEl...   \n",
       "1         0.223  https://api.spotify.com/v1/audio-analysis/02oA...   \n",
       "2         0.285  https://api.spotify.com/v1/audio-analysis/5q4B...   \n",
       "3         0.920  https://api.spotify.com/v1/audio-analysis/6Kkt...   \n",
       "4         0.030  https://api.spotify.com/v1/audio-analysis/1Dp7...   \n",
       "\n",
       "   danceability  duration_ms  energy                      id  \\\n",
       "0         0.787       197236   0.484  7eElVgPcxDqmgGrSwVFI74   \n",
       "1         0.757       189796   0.437  02oAUzv4M0ItuTDy2RT3IT   \n",
       "2         0.646       271088   0.376  5q4BpnMrYEFzLO0dYODj6J   \n",
       "3         0.575       171728   0.220  6Kkt27YmFyIFrcX3QXFi2o   \n",
       "4         0.470       367391   0.450  1Dp7JGFNjvg8Nk0CtMCcnr   \n",
       "\n",
       "   instrumentalness  key  liveness  loudness  mode  speechiness  target  \\\n",
       "0          0.004740    6    0.1350   -10.338     1       0.1960       1   \n",
       "1          0.000001   10    0.0921    -5.540     1       0.0625       1   \n",
       "2          0.009510    0    0.0899   -10.054     1       0.0478       1   \n",
       "3          0.000000   10    0.0962   -11.178     0       0.0992       1   \n",
       "4          0.009280    1    0.0781   -10.963     0       0.2010       1   \n",
       "\n",
       "     tempo  time_signature                                         track_href  \\\n",
       "0  107.925               4  https://api.spotify.com/v1/tracks/7eElVgPcxDqm...   \n",
       "1  106.953               4  https://api.spotify.com/v1/tracks/02oAUzv4M0It...   \n",
       "2  123.172               4  https://api.spotify.com/v1/tracks/5q4BpnMrYEFz...   \n",
       "3   81.601               4  https://api.spotify.com/v1/tracks/6Kkt27YmFyIF...   \n",
       "4  149.999               4  https://api.spotify.com/v1/tracks/1Dp7JGFNjvg8...   \n",
       "\n",
       "             type                                   uri  valence  \n",
       "0  audio_features  spotify:track:7eElVgPcxDqmgGrSwVFI74    0.485  \n",
       "1  audio_features  spotify:track:02oAUzv4M0ItuTDy2RT3IT    0.232  \n",
       "2  audio_features  spotify:track:5q4BpnMrYEFzLO0dYODj6J    0.142  \n",
       "3  audio_features  spotify:track:6Kkt27YmFyIFrcX3QXFi2o    0.351  \n",
       "4  audio_features  spotify:track:1Dp7JGFNjvg8Nk0CtMCcnr    0.175  "
      ]
     },
     "execution_count": 53,
     "metadata": {
      "tags": []
     },
     "output_type": "execute_result"
    }
   ],
   "source": [
    "#Importing dataset\n",
    "#dataset = pd.read_csv('data.csv')\n",
    "\n",
    "dataset.head()"
   ]
  },
  {
   "cell_type": "code",
   "execution_count": 0,
   "metadata": {
    "colab": {
     "autoexec": {
      "startup": false,
      "wait_interval": 0
     }
    },
    "colab_type": "code",
    "id": "gJASnnmKmmsE"
   },
   "outputs": [],
   "source": [
    "X = dataset.iloc[:,[0, 2, 4, 6, 8, 9, 11, 13, 18]]\n",
    "y = dataset.iloc[:, 12]"
   ]
  },
  {
   "cell_type": "code",
   "execution_count": 55,
   "metadata": {
    "colab": {
     "autoexec": {
      "startup": false,
      "wait_interval": 0
     },
     "base_uri": "https://localhost:8080/",
     "height": 34,
     "output_extras": [
      {
       "item_id": 1
      }
     ]
    },
    "colab_type": "code",
    "executionInfo": {
     "elapsed": 507,
     "status": "ok",
     "timestamp": 1515083210922,
     "user": {
      "displayName": "nab0310",
      "photoUrl": "https://lh3.googleusercontent.com/a/default-user=s128",
      "userId": "114251931762273045585"
     },
     "user_tz": 360
    },
    "id": "k9erSVEhrs4m",
    "outputId": "1dbdbe76-13df-4d04-c26e-28cf1c31f8b8"
   },
   "outputs": [
    {
     "data": {
      "text/plain": [
       "(4002, 9)"
      ]
     },
     "execution_count": 55,
     "metadata": {
      "tags": []
     },
     "output_type": "execute_result"
    }
   ],
   "source": [
    "X.shape"
   ]
  },
  {
   "cell_type": "code",
   "execution_count": 0,
   "metadata": {
    "colab": {
     "autoexec": {
      "startup": false,
      "wait_interval": 0
     }
    },
    "colab_type": "code",
    "id": "XDgcf3nbsZlx"
   },
   "outputs": [],
   "source": [
    "#Encoding Categorical Data\n",
    "from sklearn.preprocessing import LabelEncoder\n",
    "labelencoder = LabelEncoder()\n",
    "\n",
    "y = labelencoder.fit_transform(y)"
   ]
  },
  {
   "cell_type": "code",
   "execution_count": 0,
   "metadata": {
    "colab": {
     "autoexec": {
      "startup": false,
      "wait_interval": 0
     }
    },
    "colab_type": "code",
    "id": "A5SoJcjHsfSO"
   },
   "outputs": [],
   "source": [
    "#Splitting into Training set and Test set\n",
    "from sklearn.model_selection import train_test_split\n",
    "X_train, X_test, y_train, y_test = train_test_split(X, y, test_size = 0.2, random_state = 42)"
   ]
  },
  {
   "cell_type": "code",
   "execution_count": 0,
   "metadata": {
    "colab": {
     "autoexec": {
      "startup": false,
      "wait_interval": 0
     }
    },
    "colab_type": "code",
    "id": "Z_8OarAQsqj0"
   },
   "outputs": [],
   "source": [
    "#Feature Scaling\n",
    "from sklearn.preprocessing import StandardScaler\n",
    "sc = StandardScaler()\n",
    "X_train = sc.fit_transform(X_train)\n",
    "X_test = sc.fit_transform(X_test)"
   ]
  },
  {
   "cell_type": "code",
   "execution_count": 0,
   "metadata": {
    "colab": {
     "autoexec": {
      "startup": false,
      "wait_interval": 0
     }
    },
    "colab_type": "code",
    "id": "0Pq0GdUssvI4"
   },
   "outputs": [],
   "source": [
    "# https://keras.io/\n",
    "!pip install -q keras"
   ]
  },
  {
   "cell_type": "code",
   "execution_count": 3,
   "metadata": {
    "colab": {
     "autoexec": {
      "startup": false,
      "wait_interval": 0
     }
    },
    "colab_type": "code",
    "id": "1foRpogdsxVf",
    "scrolled": true
   },
   "outputs": [
    {
     "name": "stderr",
     "output_type": "stream",
     "text": [
      "Using TensorFlow backend.\n"
     ]
    }
   ],
   "source": [
    "# Importing the Keras libraries and packages\n",
    "import keras\n",
    "from keras.models import Sequential\n",
    "from keras.layers import Dense, Dropout\n"
   ]
  },
  {
   "cell_type": "code",
   "execution_count": 0,
   "metadata": {
    "colab": {
     "autoexec": {
      "startup": false,
      "wait_interval": 0
     }
    },
    "colab_type": "code",
    "id": "9VLcveBls0Ob"
   },
   "outputs": [],
   "source": [
    "# Initialising the ANN\n",
    "classifier = Sequential()"
   ]
  },
  {
   "cell_type": "code",
   "execution_count": 0,
   "metadata": {
    "colab": {
     "autoexec": {
      "startup": false,
      "wait_interval": 0
     }
    },
    "colab_type": "code",
    "id": "ooFY3OUZs2dX"
   },
   "outputs": [],
   "source": [
    "# Adding the input layer and the first hidden layer\n",
    "classifier.add(Dense(units = 32, kernel_initializer = 'uniform', activation = 'relu', input_dim = 9))\n",
    "\n",
    "# Adding the second hidden layer\n",
    "classifier.add(Dense(units = 32, kernel_initializer = 'uniform', activation = 'relu'))\n",
    "\n",
    "# Adding the second hidden layer\n",
    "classifier.add(Dense(units = 16, kernel_initializer = 'uniform', activation = 'relu'))\n",
    "\n",
    "# Adding the second hidden layer\n",
    "classifier.add(Dense(units = 16, kernel_initializer = 'uniform', activation = 'relu'))\n",
    "\n",
    "# Adding the second hidden layer\n",
    "classifier.add(Dense(units = 16, kernel_initializer = 'uniform', activation = 'relu'))\n",
    "\n",
    "\n",
    "# Adding the output layer\n",
    "classifier.add(Dense(units = 1, kernel_initializer = 'uniform', activation = 'sigmoid'))"
   ]
  },
  {
   "cell_type": "code",
   "execution_count": 0,
   "metadata": {
    "colab": {
     "autoexec": {
      "startup": false,
      "wait_interval": 0
     }
    },
    "colab_type": "code",
    "id": "K287eJAbtBBD"
   },
   "outputs": [],
   "source": [
    "# Compiling the ANN\n",
    "classifier.compile(optimizer = 'adam', loss = 'binary_crossentropy', metrics = ['accuracy'])"
   ]
  },
  {
   "cell_type": "code",
   "execution_count": 64,
   "metadata": {
    "colab": {
     "autoexec": {
      "startup": false,
      "wait_interval": 0
     },
     "base_uri": "https://localhost:8080/",
     "height": 10254,
     "output_extras": [
      {
       "item_id": 28
      },
      {
       "item_id": 54
      },
      {
       "item_id": 79
      },
      {
       "item_id": 106
      },
      {
       "item_id": 130
      },
      {
       "item_id": 155
      },
      {
       "item_id": 180
      },
      {
       "item_id": 205
      },
      {
       "item_id": 233
      },
      {
       "item_id": 242
      },
      {
       "item_id": 250
      },
      {
       "item_id": 257
      },
      {
       "item_id": 265
      },
      {
       "item_id": 272
      },
      {
       "item_id": 279
      },
      {
       "item_id": 286
      },
      {
       "item_id": 293
      },
      {
       "item_id": 312
      },
      {
       "item_id": 335
      },
      {
       "item_id": 359
      },
      {
       "item_id": 383
      },
      {
       "item_id": 406
      },
      {
       "item_id": 427
      },
      {
       "item_id": 451
      },
      {
       "item_id": 478
      },
      {
       "item_id": 496
      },
      {
       "item_id": 497
      }
     ]
    },
    "colab_type": "code",
    "executionInfo": {
     "elapsed": 169801,
     "status": "ok",
     "timestamp": 1515083388138,
     "user": {
      "displayName": "nab0310",
      "photoUrl": "https://lh3.googleusercontent.com/a/default-user=s128",
      "userId": "114251931762273045585"
     },
     "user_tz": 360
    },
    "id": "2sWDwy36tB4C",
    "outputId": "b9caa443-f0c8-4b8b-aad0-a3e711e5b77a"
   },
   "outputs": [
    {
     "name": "stdout",
     "output_type": "stream",
     "text": [
      "Epoch 1/300\n",
      "3201/3201 [==============================] - 1s 273us/step - loss: 0.5422 - acc: 0.7104\n",
      "Epoch 2/300\n",
      "3201/3201 [==============================] - 1s 161us/step - loss: 0.4166 - acc: 0.8204\n",
      "Epoch 3/300\n",
      "3201/3201 [==============================] - 1s 160us/step - loss: 0.4052 - acc: 0.8279\n",
      "Epoch 4/300\n",
      "3201/3201 [==============================] - 1s 160us/step - loss: 0.4002 - acc: 0.8254\n",
      "Epoch 5/300\n",
      "3201/3201 [==============================] - 1s 158us/step - loss: 0.3964 - acc: 0.8294\n",
      "Epoch 6/300\n",
      "3201/3201 [==============================] - 1s 174us/step - loss: 0.3936 - acc: 0.8260\n",
      "Epoch 7/300\n",
      "3201/3201 [==============================] - 1s 166us/step - loss: 0.3866 - acc: 0.8332\n",
      "Epoch 8/300\n",
      "3201/3201 [==============================] - 1s 165us/step - loss: 0.3866 - acc: 0.8304\n",
      "Epoch 9/300\n",
      "3201/3201 [==============================] - 1s 157us/step - loss: 0.3837 - acc: 0.8329\n",
      "Epoch 10/300\n",
      "3201/3201 [==============================] - 1s 163us/step - loss: 0.3812 - acc: 0.8332\n",
      "Epoch 11/300\n",
      "3201/3201 [==============================] - 1s 168us/step - loss: 0.3759 - acc: 0.8322\n",
      "Epoch 12/300\n",
      "3201/3201 [==============================] - 1s 159us/step - loss: 0.3777 - acc: 0.8382\n",
      "Epoch 13/300\n",
      "1810/3201 [===============>..............] - ETA: 0s - loss: 0.3765 - acc: 0.83653201/3201 [==============================] - 1s 169us/step - loss: 0.3738 - acc: 0.8407\n",
      "Epoch 14/300\n",
      "3201/3201 [==============================] - 1s 159us/step - loss: 0.3710 - acc: 0.8444\n",
      "Epoch 15/300\n",
      "3201/3201 [==============================] - 1s 160us/step - loss: 0.3689 - acc: 0.8400\n",
      "Epoch 16/300\n",
      "3201/3201 [==============================] - 1s 165us/step - loss: 0.3665 - acc: 0.8407\n",
      "Epoch 17/300\n",
      "3201/3201 [==============================] - 1s 159us/step - loss: 0.3686 - acc: 0.8388\n",
      "Epoch 18/300\n",
      "3201/3201 [==============================] - 1s 163us/step - loss: 0.3633 - acc: 0.8391\n",
      "Epoch 19/300\n",
      "3201/3201 [==============================] - 0s 156us/step - loss: 0.3624 - acc: 0.8432\n",
      "Epoch 20/300\n",
      "3201/3201 [==============================] - 0s 155us/step - loss: 0.3599 - acc: 0.8438\n",
      "Epoch 21/300\n",
      "3201/3201 [==============================] - 1s 163us/step - loss: 0.3634 - acc: 0.8482\n",
      "Epoch 22/300\n",
      "3201/3201 [==============================] - 1s 162us/step - loss: 0.3577 - acc: 0.8413\n",
      "Epoch 23/300\n",
      "3201/3201 [==============================] - 1s 162us/step - loss: 0.3628 - acc: 0.8416\n",
      "Epoch 24/300\n",
      "3201/3201 [==============================] - 1s 164us/step - loss: 0.3575 - acc: 0.8454\n",
      "Epoch 25/300\n",
      "2210/3201 [===================>..........] - ETA: 0s - loss: 0.3590 - acc: 0.84123201/3201 [==============================] - 1s 164us/step - loss: 0.3572 - acc: 0.8435\n",
      "Epoch 26/300\n",
      "3201/3201 [==============================] - 1s 170us/step - loss: 0.3554 - acc: 0.8472\n",
      "Epoch 27/300\n",
      "3201/3201 [==============================] - 1s 158us/step - loss: 0.3547 - acc: 0.8479\n",
      "Epoch 28/300\n",
      "3201/3201 [==============================] - 1s 162us/step - loss: 0.3563 - acc: 0.8500\n",
      "Epoch 29/300\n",
      "3201/3201 [==============================] - 1s 158us/step - loss: 0.3529 - acc: 0.8494\n",
      "Epoch 30/300\n",
      "3201/3201 [==============================] - 0s 156us/step - loss: 0.3528 - acc: 0.8541\n",
      "Epoch 31/300\n",
      "3201/3201 [==============================] - 0s 154us/step - loss: 0.3508 - acc: 0.8541\n",
      "Epoch 32/300\n",
      "3201/3201 [==============================] - 1s 161us/step - loss: 0.3510 - acc: 0.8525\n",
      "Epoch 33/300\n",
      "3201/3201 [==============================] - 1s 165us/step - loss: 0.3479 - acc: 0.8522\n",
      "Epoch 34/300\n",
      "3201/3201 [==============================] - 1s 163us/step - loss: 0.3471 - acc: 0.8513\n",
      "Epoch 35/300\n",
      "3201/3201 [==============================] - 1s 158us/step - loss: 0.3477 - acc: 0.8510\n",
      "Epoch 36/300\n",
      "3201/3201 [==============================] - 1s 171us/step - loss: 0.3430 - acc: 0.8538\n",
      "Epoch 37/300\n",
      "1860/3201 [================>.............] - ETA: 0s - loss: 0.3545 - acc: 0.85653201/3201 [==============================] - 1s 161us/step - loss: 0.3478 - acc: 0.8563\n",
      "Epoch 38/300\n",
      "3201/3201 [==============================] - 1s 164us/step - loss: 0.3445 - acc: 0.8510\n",
      "Epoch 39/300\n",
      "3201/3201 [==============================] - 0s 156us/step - loss: 0.3434 - acc: 0.8547\n",
      "Epoch 40/300\n",
      "3201/3201 [==============================] - 1s 166us/step - loss: 0.3431 - acc: 0.8563\n",
      "Epoch 41/300\n",
      "3201/3201 [==============================] - 1s 164us/step - loss: 0.3417 - acc: 0.8579\n",
      "Epoch 42/300\n",
      "3201/3201 [==============================] - 1s 167us/step - loss: 0.3400 - acc: 0.8563\n",
      "Epoch 43/300\n",
      "3201/3201 [==============================] - 1s 165us/step - loss: 0.3407 - acc: 0.8585\n",
      "Epoch 44/300\n",
      "3201/3201 [==============================] - 1s 168us/step - loss: 0.3399 - acc: 0.8563\n",
      "Epoch 45/300\n",
      "3201/3201 [==============================] - 1s 164us/step - loss: 0.3376 - acc: 0.8575\n",
      "Epoch 46/300\n",
      "3201/3201 [==============================] - 1s 170us/step - loss: 0.3364 - acc: 0.8560\n",
      "Epoch 47/300\n",
      "3201/3201 [==============================] - 1s 160us/step - loss: 0.3363 - acc: 0.8510\n",
      "Epoch 48/300\n",
      "3201/3201 [==============================] - 1s 167us/step - loss: 0.3337 - acc: 0.8582\n",
      "Epoch 49/300\n",
      "1950/3201 [=================>............] - ETA: 0s - loss: 0.3337 - acc: 0.85493201/3201 [==============================] - 1s 158us/step - loss: 0.3339 - acc: 0.8591\n",
      "Epoch 50/300\n",
      "3201/3201 [==============================] - 0s 156us/step - loss: 0.3327 - acc: 0.8591\n",
      "Epoch 51/300\n",
      "3201/3201 [==============================] - 1s 160us/step - loss: 0.3329 - acc: 0.8629\n",
      "Epoch 52/300\n",
      "3201/3201 [==============================] - 1s 164us/step - loss: 0.3309 - acc: 0.8600\n",
      "Epoch 53/300\n",
      "3201/3201 [==============================] - 1s 159us/step - loss: 0.3307 - acc: 0.8585\n",
      "Epoch 54/300\n",
      "3201/3201 [==============================] - 1s 163us/step - loss: 0.3305 - acc: 0.8616\n",
      "Epoch 55/300\n",
      "3201/3201 [==============================] - 1s 165us/step - loss: 0.3324 - acc: 0.8610\n",
      "Epoch 56/300\n",
      "3201/3201 [==============================] - 1s 171us/step - loss: 0.3270 - acc: 0.8619\n",
      "Epoch 57/300\n",
      "3201/3201 [==============================] - 1s 165us/step - loss: 0.3260 - acc: 0.8619\n",
      "Epoch 58/300\n",
      "3201/3201 [==============================] - 0s 155us/step - loss: 0.3282 - acc: 0.8600\n",
      "Epoch 59/300\n",
      "3201/3201 [==============================] - 1s 159us/step - loss: 0.3252 - acc: 0.8632\n",
      "Epoch 60/300\n",
      "3201/3201 [==============================] - 1s 162us/step - loss: 0.3227 - acc: 0.8597\n",
      "Epoch 61/300\n",
      "2510/3201 [======================>.......] - ETA: 0s - loss: 0.3213 - acc: 0.86373201/3201 [==============================] - 1s 168us/step - loss: 0.3264 - acc: 0.8613\n",
      "Epoch 62/300\n",
      "3201/3201 [==============================] - 0s 156us/step - loss: 0.3223 - acc: 0.8635\n",
      "Epoch 63/300\n",
      "3201/3201 [==============================] - 1s 164us/step - loss: 0.3214 - acc: 0.8625\n",
      "Epoch 64/300\n",
      "3201/3201 [==============================] - 1s 165us/step - loss: 0.3219 - acc: 0.8644\n",
      "Epoch 65/300\n",
      "3201/3201 [==============================] - 1s 168us/step - loss: 0.3210 - acc: 0.8629\n",
      "Epoch 66/300\n",
      "3201/3201 [==============================] - 1s 162us/step - loss: 0.3207 - acc: 0.8629\n",
      "Epoch 67/300\n",
      "3201/3201 [==============================] - 1s 165us/step - loss: 0.3237 - acc: 0.8575\n",
      "Epoch 68/300\n",
      "3201/3201 [==============================] - 1s 156us/step - loss: 0.3204 - acc: 0.8604\n",
      "Epoch 69/300\n",
      "3201/3201 [==============================] - 1s 157us/step - loss: 0.3164 - acc: 0.8638\n",
      "Epoch 70/300\n",
      "3201/3201 [==============================] - 1s 159us/step - loss: 0.3154 - acc: 0.8685\n",
      "Epoch 71/300\n",
      "3201/3201 [==============================] - 1s 162us/step - loss: 0.3111 - acc: 0.8660\n",
      "Epoch 72/300\n",
      "3201/3201 [==============================] - 1s 160us/step - loss: 0.3150 - acc: 0.8672\n",
      "Epoch 73/300\n",
      "1620/3201 [==============>...............] - ETA: 0s - loss: 0.3051 - acc: 0.86793201/3201 [==============================] - 1s 158us/step - loss: 0.3150 - acc: 0.8622\n",
      "Epoch 74/300\n",
      "3201/3201 [==============================] - 1s 163us/step - loss: 0.3128 - acc: 0.8666\n",
      "Epoch 75/300\n",
      "3201/3201 [==============================] - 1s 164us/step - loss: 0.3140 - acc: 0.8694\n",
      "Epoch 76/300\n",
      "3201/3201 [==============================] - 1s 173us/step - loss: 0.3137 - acc: 0.8650\n",
      "Epoch 77/300\n",
      "3201/3201 [==============================] - 1s 158us/step - loss: 0.3105 - acc: 0.8672\n",
      "Epoch 78/300\n",
      "3201/3201 [==============================] - 1s 167us/step - loss: 0.3101 - acc: 0.8666\n",
      "Epoch 79/300\n",
      "3201/3201 [==============================] - 1s 166us/step - loss: 0.3084 - acc: 0.8697\n",
      "Epoch 80/300\n",
      "3201/3201 [==============================] - 1s 162us/step - loss: 0.3122 - acc: 0.8663\n",
      "Epoch 81/300\n",
      "3201/3201 [==============================] - 1s 164us/step - loss: 0.3099 - acc: 0.8697\n",
      "Epoch 82/300\n",
      "3201/3201 [==============================] - 1s 165us/step - loss: 0.3045 - acc: 0.8725\n",
      "Epoch 83/300\n",
      "3201/3201 [==============================] - 1s 166us/step - loss: 0.3060 - acc: 0.8729\n",
      "Epoch 84/300\n",
      "3201/3201 [==============================] - 1s 160us/step - loss: 0.3047 - acc: 0.8713\n",
      "Epoch 85/300\n"
     ]
    },
    {
     "name": "stdout",
     "output_type": "stream",
     "text": [
      "1930/3201 [=================>............] - ETA: 0s - loss: 0.2898 - acc: 0.87513201/3201 [==============================] - 1s 160us/step - loss: 0.3065 - acc: 0.8700\n",
      "Epoch 86/300\n",
      "3201/3201 [==============================] - 1s 168us/step - loss: 0.3029 - acc: 0.8738\n",
      "Epoch 87/300\n",
      "3201/3201 [==============================] - 1s 159us/step - loss: 0.3006 - acc: 0.8729\n",
      "Epoch 88/300\n",
      "3201/3201 [==============================] - 1s 165us/step - loss: 0.3025 - acc: 0.8757\n",
      "Epoch 89/300\n",
      "3201/3201 [==============================] - 1s 162us/step - loss: 0.3037 - acc: 0.8760\n",
      "Epoch 90/300\n",
      "3201/3201 [==============================] - 1s 187us/step - loss: 0.2996 - acc: 0.8757\n",
      "Epoch 91/300\n",
      "3201/3201 [==============================] - 1s 204us/step - loss: 0.2988 - acc: 0.8791\n",
      "Epoch 92/300\n",
      "3201/3201 [==============================] - 1s 215us/step - loss: 0.3009 - acc: 0.8794\n",
      "Epoch 93/300\n",
      "3201/3201 [==============================] - 1s 186us/step - loss: 0.2970 - acc: 0.8810\n",
      "Epoch 94/300\n",
      "3201/3201 [==============================] - 1s 168us/step - loss: 0.3046 - acc: 0.8744\n",
      "Epoch 95/300\n",
      "3201/3201 [==============================] - 1s 181us/step - loss: 0.2927 - acc: 0.8772\n",
      "Epoch 96/300\n",
      "3040/3201 [===========================>..] - ETA: 0s - loss: 0.2962 - acc: 0.87933201/3201 [==============================] - 1s 203us/step - loss: 0.2941 - acc: 0.8794\n",
      "Epoch 97/300\n",
      "3201/3201 [==============================] - 1s 263us/step - loss: 0.2901 - acc: 0.8872\n",
      "Epoch 98/300\n",
      "3201/3201 [==============================] - 1s 330us/step - loss: 0.2907 - acc: 0.8813\n",
      "Epoch 99/300\n",
      "3201/3201 [==============================] - 1s 351us/step - loss: 0.2903 - acc: 0.8810\n",
      "Epoch 100/300\n",
      "3201/3201 [==============================] - 1s 282us/step - loss: 0.2889 - acc: 0.8822\n",
      "Epoch 101/300\n",
      "3201/3201 [==============================] - 1s 319us/step - loss: 0.2863 - acc: 0.8878\n",
      "Epoch 102/300\n",
      "3201/3201 [==============================] - 1s 301us/step - loss: 0.2891 - acc: 0.8825\n",
      "Epoch 103/300\n",
      "3201/3201 [==============================] - 1s 299us/step - loss: 0.2838 - acc: 0.8866\n",
      "Epoch 104/300\n",
      "3201/3201 [==============================] - 1s 266us/step - loss: 0.2811 - acc: 0.8866\n",
      "Epoch 105/300\n",
      "2210/3201 [===================>..........] - ETA: 0s - loss: 0.2633 - acc: 0.89913201/3201 [==============================] - 1s 273us/step - loss: 0.2815 - acc: 0.8875\n",
      "Epoch 106/300\n",
      "3201/3201 [==============================] - 1s 266us/step - loss: 0.2742 - acc: 0.8925\n",
      "Epoch 107/300\n",
      "3201/3201 [==============================] - 1s 276us/step - loss: 0.2800 - acc: 0.8866\n",
      "Epoch 108/300\n",
      "3201/3201 [==============================] - 1s 286us/step - loss: 0.2742 - acc: 0.8932\n",
      "Epoch 109/300\n",
      "3201/3201 [==============================] - 1s 354us/step - loss: 0.2767 - acc: 0.8903\n",
      "Epoch 110/300\n",
      "3201/3201 [==============================] - 1s 329us/step - loss: 0.2730 - acc: 0.8907\n",
      "Epoch 111/300\n",
      "3201/3201 [==============================] - 1s 263us/step - loss: 0.2729 - acc: 0.8891\n",
      "Epoch 112/300\n",
      "3201/3201 [==============================] - 1s 221us/step - loss: 0.2705 - acc: 0.8935\n",
      "Epoch 113/300\n",
      "3201/3201 [==============================] - 1s 203us/step - loss: 0.2785 - acc: 0.8928\n",
      "Epoch 114/300\n",
      "3201/3201 [==============================] - 1s 208us/step - loss: 0.2664 - acc: 0.8957\n",
      "Epoch 115/300\n",
      "1300/3201 [===========>..................] - ETA: 0s - loss: 0.2705 - acc: 0.89693201/3201 [==============================] - 1s 202us/step - loss: 0.2677 - acc: 0.8947\n",
      "Epoch 116/300\n",
      "3201/3201 [==============================] - 1s 207us/step - loss: 0.2645 - acc: 0.8941\n",
      "Epoch 117/300\n",
      "3201/3201 [==============================] - 1s 202us/step - loss: 0.2666 - acc: 0.8972\n",
      "Epoch 118/300\n",
      "3201/3201 [==============================] - 1s 195us/step - loss: 0.2678 - acc: 0.8925\n",
      "Epoch 119/300\n",
      "3201/3201 [==============================] - 1s 187us/step - loss: 0.2612 - acc: 0.9013\n",
      "Epoch 120/300\n",
      "3201/3201 [==============================] - 1s 187us/step - loss: 0.2657 - acc: 0.8982\n",
      "Epoch 121/300\n",
      "3201/3201 [==============================] - 1s 190us/step - loss: 0.2663 - acc: 0.8975\n",
      "Epoch 122/300\n",
      "3201/3201 [==============================] - 1s 192us/step - loss: 0.2601 - acc: 0.8988\n",
      "Epoch 123/300\n",
      "3201/3201 [==============================] - 1s 206us/step - loss: 0.2617 - acc: 0.8972\n",
      "Epoch 124/300\n",
      "3201/3201 [==============================] - 1s 192us/step - loss: 0.2533 - acc: 0.9032\n",
      "Epoch 125/300\n",
      "3201/3201 [==============================] - 1s 191us/step - loss: 0.2591 - acc: 0.9035\n",
      "Epoch 126/300\n",
      "2600/3201 [=======================>......] - ETA: 0s - loss: 0.2577 - acc: 0.89693201/3201 [==============================] - 1s 181us/step - loss: 0.2610 - acc: 0.8972\n",
      "Epoch 127/300\n",
      "3201/3201 [==============================] - 1s 187us/step - loss: 0.2542 - acc: 0.9010\n",
      "Epoch 128/300\n",
      "3201/3201 [==============================] - 1s 185us/step - loss: 0.2514 - acc: 0.9025\n",
      "Epoch 129/300\n",
      "3201/3201 [==============================] - 1s 189us/step - loss: 0.2509 - acc: 0.9022\n",
      "Epoch 130/300\n",
      "3201/3201 [==============================] - 1s 181us/step - loss: 0.2555 - acc: 0.9047\n",
      "Epoch 131/300\n",
      "3201/3201 [==============================] - 1s 167us/step - loss: 0.2470 - acc: 0.9057\n",
      "Epoch 132/300\n",
      "3201/3201 [==============================] - 1s 169us/step - loss: 0.2399 - acc: 0.9082\n",
      "Epoch 133/300\n",
      "3201/3201 [==============================] - 1s 164us/step - loss: 0.2540 - acc: 0.8982\n",
      "Epoch 134/300\n",
      "3201/3201 [==============================] - 1s 158us/step - loss: 0.2434 - acc: 0.9088\n",
      "Epoch 135/300\n",
      "3201/3201 [==============================] - 1s 159us/step - loss: 0.2415 - acc: 0.9088\n",
      "Epoch 136/300\n",
      "3201/3201 [==============================] - 1s 157us/step - loss: 0.2444 - acc: 0.9047\n",
      "Epoch 137/300\n",
      "3201/3201 [==============================] - 1s 166us/step - loss: 0.2456 - acc: 0.9035\n",
      "Epoch 138/300\n",
      " 320/3201 [=>............................] - ETA: 0s - loss: 0.2008 - acc: 0.91873201/3201 [==============================] - 1s 160us/step - loss: 0.2376 - acc: 0.9094\n",
      "Epoch 139/300\n",
      "3201/3201 [==============================] - 1s 169us/step - loss: 0.2394 - acc: 0.9132\n",
      "Epoch 140/300\n",
      "3201/3201 [==============================] - 1s 157us/step - loss: 0.2298 - acc: 0.9122\n",
      "Epoch 141/300\n",
      "3201/3201 [==============================] - 1s 159us/step - loss: 0.2392 - acc: 0.9050\n",
      "Epoch 142/300\n",
      "3201/3201 [==============================] - 1s 160us/step - loss: 0.2353 - acc: 0.9132\n",
      "Epoch 143/300\n",
      "3201/3201 [==============================] - 1s 158us/step - loss: 0.2310 - acc: 0.9103\n",
      "Epoch 144/300\n",
      "3201/3201 [==============================] - 1s 158us/step - loss: 0.2335 - acc: 0.9082\n",
      "Epoch 145/300\n",
      "3201/3201 [==============================] - 1s 164us/step - loss: 0.2357 - acc: 0.9085\n",
      "Epoch 146/300\n",
      "3201/3201 [==============================] - 1s 162us/step - loss: 0.2375 - acc: 0.9088\n",
      "Epoch 147/300\n",
      "3201/3201 [==============================] - 1s 160us/step - loss: 0.2239 - acc: 0.9197\n",
      "Epoch 148/300\n",
      "3201/3201 [==============================] - 1s 159us/step - loss: 0.2191 - acc: 0.9191\n",
      "Epoch 149/300\n",
      "3201/3201 [==============================] - 1s 168us/step - loss: 0.2254 - acc: 0.9166\n",
      "Epoch 150/300\n",
      "1900/3201 [================>.............] - ETA: 0s - loss: 0.2067 - acc: 0.92893201/3201 [==============================] - 1s 160us/step - loss: 0.2282 - acc: 0.9166\n",
      "Epoch 151/300\n",
      "3201/3201 [==============================] - 1s 158us/step - loss: 0.2213 - acc: 0.9188\n",
      "Epoch 152/300\n",
      "3201/3201 [==============================] - 1s 161us/step - loss: 0.2193 - acc: 0.9210\n",
      "Epoch 153/300\n",
      "3201/3201 [==============================] - 1s 164us/step - loss: 0.2223 - acc: 0.9166\n",
      "Epoch 154/300\n",
      "3201/3201 [==============================] - 1s 163us/step - loss: 0.2161 - acc: 0.9244\n",
      "Epoch 155/300\n",
      "3201/3201 [==============================] - 1s 156us/step - loss: 0.2162 - acc: 0.9210\n",
      "Epoch 156/300\n",
      "3201/3201 [==============================] - 1s 160us/step - loss: 0.2049 - acc: 0.9269\n",
      "Epoch 157/300\n",
      "3201/3201 [==============================] - 1s 160us/step - loss: 0.2174 - acc: 0.9194\n",
      "Epoch 158/300\n",
      "3201/3201 [==============================] - 1s 159us/step - loss: 0.2126 - acc: 0.9203\n",
      "Epoch 159/300\n",
      "3201/3201 [==============================] - 1s 162us/step - loss: 0.2092 - acc: 0.9263\n",
      "Epoch 160/300\n",
      "3201/3201 [==============================] - 1s 166us/step - loss: 0.2157 - acc: 0.9216\n",
      "Epoch 161/300\n",
      "3201/3201 [==============================] - 1s 165us/step - loss: 0.2000 - acc: 0.9266\n",
      "Epoch 162/300\n"
     ]
    },
    {
     "name": "stdout",
     "output_type": "stream",
     "text": [
      "1960/3201 [=================>............] - ETA: 0s - loss: 0.2089 - acc: 0.92703201/3201 [==============================] - 1s 157us/step - loss: 0.1998 - acc: 0.9278\n",
      "Epoch 163/300\n",
      "3201/3201 [==============================] - 1s 164us/step - loss: 0.2051 - acc: 0.9244\n",
      "Epoch 164/300\n",
      "3201/3201 [==============================] - 1s 167us/step - loss: 0.1932 - acc: 0.9303\n",
      "Epoch 165/300\n",
      "3201/3201 [==============================] - 1s 164us/step - loss: 0.1944 - acc: 0.9300\n",
      "Epoch 166/300\n",
      "3201/3201 [==============================] - 1s 160us/step - loss: 0.2050 - acc: 0.9213\n",
      "Epoch 167/300\n",
      "3201/3201 [==============================] - 1s 157us/step - loss: 0.2008 - acc: 0.9247\n",
      "Epoch 168/300\n",
      "3201/3201 [==============================] - 1s 167us/step - loss: 0.2225 - acc: 0.9153\n",
      "Epoch 169/300\n",
      "3201/3201 [==============================] - 1s 167us/step - loss: 0.1925 - acc: 0.9291\n",
      "Epoch 170/300\n",
      "3201/3201 [==============================] - 1s 171us/step - loss: 0.1942 - acc: 0.9288\n",
      "Epoch 171/300\n",
      "3201/3201 [==============================] - 1s 166us/step - loss: 0.1866 - acc: 0.9316\n",
      "Epoch 172/300\n",
      "3201/3201 [==============================] - 1s 167us/step - loss: 0.1906 - acc: 0.9294\n",
      "Epoch 173/300\n",
      "3201/3201 [==============================] - 1s 161us/step - loss: 0.1986 - acc: 0.9272\n",
      "Epoch 174/300\n",
      " 940/3201 [=======>......................] - ETA: 0s - loss: 0.1996 - acc: 0.92773201/3201 [==============================] - 0s 155us/step - loss: 0.1732 - acc: 0.9397\n",
      "Epoch 175/300\n",
      "3201/3201 [==============================] - 0s 155us/step - loss: 0.1992 - acc: 0.9285\n",
      "Epoch 176/300\n",
      "3201/3201 [==============================] - 1s 164us/step - loss: 0.1870 - acc: 0.9353\n",
      "Epoch 177/300\n",
      "3201/3201 [==============================] - 1s 166us/step - loss: 0.1775 - acc: 0.9363\n",
      "Epoch 178/300\n",
      "3201/3201 [==============================] - 1s 159us/step - loss: 0.1779 - acc: 0.9381\n",
      "Epoch 179/300\n",
      "3201/3201 [==============================] - 1s 166us/step - loss: 0.1733 - acc: 0.9416\n",
      "Epoch 180/300\n",
      "3201/3201 [==============================] - 1s 166us/step - loss: 0.1770 - acc: 0.9360\n",
      "Epoch 181/300\n",
      "3201/3201 [==============================] - 1s 166us/step - loss: 0.1722 - acc: 0.9394\n",
      "Epoch 182/300\n",
      "3201/3201 [==============================] - 1s 164us/step - loss: 0.1721 - acc: 0.9410\n",
      "Epoch 183/300\n",
      "3201/3201 [==============================] - 1s 163us/step - loss: 0.1754 - acc: 0.9378\n",
      "Epoch 184/300\n",
      "3201/3201 [==============================] - 1s 165us/step - loss: 0.1816 - acc: 0.9391\n",
      "Epoch 185/300\n",
      "3201/3201 [==============================] - 1s 159us/step - loss: 0.1748 - acc: 0.9372\n",
      "Epoch 186/300\n",
      "2020/3201 [=================>............] - ETA: 0s - loss: 0.1572 - acc: 0.94703201/3201 [==============================] - 0s 154us/step - loss: 0.1650 - acc: 0.9403\n",
      "Epoch 187/300\n",
      "3201/3201 [==============================] - 1s 157us/step - loss: 0.1664 - acc: 0.9431\n",
      "Epoch 188/300\n",
      "3201/3201 [==============================] - 1s 160us/step - loss: 0.1680 - acc: 0.9438\n",
      "Epoch 189/300\n",
      "3201/3201 [==============================] - 1s 164us/step - loss: 0.1611 - acc: 0.9435\n",
      "Epoch 190/300\n",
      "3201/3201 [==============================] - 1s 159us/step - loss: 0.1615 - acc: 0.9444\n",
      "Epoch 191/300\n",
      "3201/3201 [==============================] - 1s 157us/step - loss: 0.1568 - acc: 0.9444\n",
      "Epoch 192/300\n",
      "3201/3201 [==============================] - 1s 158us/step - loss: 0.1725 - acc: 0.9360\n",
      "Epoch 193/300\n",
      "3201/3201 [==============================] - 0s 156us/step - loss: 0.1604 - acc: 0.9438\n",
      "Epoch 194/300\n",
      "3201/3201 [==============================] - 0s 156us/step - loss: 0.1488 - acc: 0.9478\n",
      "Epoch 195/300\n",
      "3201/3201 [==============================] - 1s 159us/step - loss: 0.1473 - acc: 0.9528\n",
      "Epoch 196/300\n",
      "3201/3201 [==============================] - 1s 161us/step - loss: 0.1581 - acc: 0.9469\n",
      "Epoch 197/300\n",
      "3201/3201 [==============================] - 1s 157us/step - loss: 0.1488 - acc: 0.9510\n",
      "Epoch 198/300\n",
      "2620/3201 [=======================>......] - ETA: 0s - loss: 0.1883 - acc: 0.92633201/3201 [==============================] - 1s 160us/step - loss: 0.1890 - acc: 0.9250\n",
      "Epoch 199/300\n",
      "3201/3201 [==============================] - 1s 157us/step - loss: 0.1725 - acc: 0.9438\n",
      "Epoch 200/300\n",
      "3201/3201 [==============================] - 1s 165us/step - loss: 0.1543 - acc: 0.9466\n",
      "Epoch 201/300\n",
      "3201/3201 [==============================] - 1s 156us/step - loss: 0.1470 - acc: 0.9506\n",
      "Epoch 202/300\n",
      "3201/3201 [==============================] - 0s 155us/step - loss: 0.1468 - acc: 0.9481\n",
      "Epoch 203/300\n",
      "3201/3201 [==============================] - 1s 162us/step - loss: 0.1451 - acc: 0.9503\n",
      "Epoch 204/300\n",
      "3201/3201 [==============================] - 1s 156us/step - loss: 0.1632 - acc: 0.9447\n",
      "Epoch 205/300\n",
      "3201/3201 [==============================] - 1s 163us/step - loss: 0.1419 - acc: 0.9531\n",
      "Epoch 206/300\n",
      "3201/3201 [==============================] - 1s 156us/step - loss: 0.1416 - acc: 0.9522\n",
      "Epoch 207/300\n",
      "3201/3201 [==============================] - 1s 162us/step - loss: 0.1322 - acc: 0.9569\n",
      "Epoch 208/300\n",
      "3201/3201 [==============================] - 1s 160us/step - loss: 0.1545 - acc: 0.9447\n",
      "Epoch 209/300\n",
      "3201/3201 [==============================] - 1s 164us/step - loss: 0.1594 - acc: 0.9435\n",
      "Epoch 210/300\n",
      "1780/3201 [===============>..............] - ETA: 0s - loss: 0.1565 - acc: 0.94783201/3201 [==============================] - 1s 172us/step - loss: 0.1542 - acc: 0.9463\n",
      "Epoch 211/300\n",
      "3201/3201 [==============================] - 1s 163us/step - loss: 0.1401 - acc: 0.9491\n",
      "Epoch 212/300\n",
      "3201/3201 [==============================] - 1s 163us/step - loss: 0.1241 - acc: 0.9566\n",
      "Epoch 213/300\n",
      "3201/3201 [==============================] - 1s 186us/step - loss: 0.1344 - acc: 0.9553\n",
      "Epoch 214/300\n",
      "3201/3201 [==============================] - 1s 210us/step - loss: 0.1316 - acc: 0.9550\n",
      "Epoch 215/300\n",
      "3201/3201 [==============================] - 1s 198us/step - loss: 0.1646 - acc: 0.9366\n",
      "Epoch 216/300\n",
      "3201/3201 [==============================] - 1s 204us/step - loss: 0.1322 - acc: 0.9531\n",
      "Epoch 217/300\n",
      "3201/3201 [==============================] - 1s 202us/step - loss: 0.1334 - acc: 0.9522\n",
      "Epoch 218/300\n",
      "3201/3201 [==============================] - 1s 181us/step - loss: 0.1473 - acc: 0.9472\n",
      "Epoch 219/300\n",
      "3201/3201 [==============================] - 1s 186us/step - loss: 0.1368 - acc: 0.9547\n",
      "Epoch 220/300\n",
      "3201/3201 [==============================] - 1s 180us/step - loss: 0.1227 - acc: 0.9575\n",
      "Epoch 221/300\n",
      "2780/3201 [=========================>....] - ETA: 0s - loss: 0.1782 - acc: 0.92843201/3201 [==============================] - 1s 188us/step - loss: 0.1779 - acc: 0.9291\n",
      "Epoch 222/300\n",
      "3201/3201 [==============================] - 1s 172us/step - loss: 0.1203 - acc: 0.9631\n",
      "Epoch 223/300\n",
      "3201/3201 [==============================] - 1s 169us/step - loss: 0.1185 - acc: 0.9613\n",
      "Epoch 224/300\n",
      "3201/3201 [==============================] - 1s 185us/step - loss: 0.1177 - acc: 0.9619\n",
      "Epoch 225/300\n",
      "3201/3201 [==============================] - 1s 185us/step - loss: 0.1385 - acc: 0.9531\n",
      "Epoch 226/300\n",
      "3201/3201 [==============================] - 1s 198us/step - loss: 0.1590 - acc: 0.9463\n",
      "Epoch 227/300\n",
      "3201/3201 [==============================] - 1s 216us/step - loss: 0.1295 - acc: 0.9553\n",
      "Epoch 228/300\n",
      "3201/3201 [==============================] - 1s 171us/step - loss: 0.1227 - acc: 0.9622\n",
      "Epoch 229/300\n",
      "3201/3201 [==============================] - 1s 159us/step - loss: 0.1266 - acc: 0.9553\n",
      "Epoch 230/300\n",
      "3201/3201 [==============================] - 0s 155us/step - loss: 0.1241 - acc: 0.9578\n",
      "Epoch 231/300\n",
      "3201/3201 [==============================] - 1s 167us/step - loss: 0.1163 - acc: 0.9603\n",
      "Epoch 232/300\n",
      "3201/3201 [==============================] - 1s 162us/step - loss: 0.1148 - acc: 0.9616\n",
      "Epoch 233/300\n",
      " 660/3201 [=====>........................] - ETA: 0s - loss: 0.1549 - acc: 0.95303201/3201 [==============================] - 1s 171us/step - loss: 0.1387 - acc: 0.9513\n",
      "Epoch 234/300\n",
      "3201/3201 [==============================] - 1s 165us/step - loss: 0.1157 - acc: 0.9619\n",
      "Epoch 235/300\n",
      "3201/3201 [==============================] - 1s 172us/step - loss: 0.1238 - acc: 0.9581\n",
      "Epoch 236/300\n",
      "3201/3201 [==============================] - 1s 168us/step - loss: 0.1291 - acc: 0.9572\n",
      "Epoch 237/300\n",
      "3201/3201 [==============================] - 1s 175us/step - loss: 0.1080 - acc: 0.9638\n",
      "Epoch 238/300\n",
      "3201/3201 [==============================] - 1s 158us/step - loss: 0.1132 - acc: 0.9625\n",
      "Epoch 239/300\n",
      "3201/3201 [==============================] - 1s 170us/step - loss: 0.1165 - acc: 0.9622\n",
      "Epoch 240/300\n",
      "3201/3201 [==============================] - 1s 157us/step - loss: 0.1204 - acc: 0.9606\n",
      "Epoch 241/300\n",
      "3201/3201 [==============================] - 1s 160us/step - loss: 0.1438 - acc: 0.9478\n",
      "Epoch 242/300\n",
      "3201/3201 [==============================] - 0s 156us/step - loss: 0.1219 - acc: 0.9553\n",
      "Epoch 243/300\n",
      "3201/3201 [==============================] - 1s 159us/step - loss: 0.1051 - acc: 0.9647\n",
      "Epoch 244/300\n",
      "3201/3201 [==============================] - 1s 158us/step - loss: 0.1117 - acc: 0.9613\n",
      "Epoch 245/300\n"
     ]
    },
    {
     "name": "stdout",
     "output_type": "stream",
     "text": [
      "2520/3201 [======================>.......] - ETA: 0s - loss: 0.1192 - acc: 0.95523201/3201 [==============================] - 1s 164us/step - loss: 0.1243 - acc: 0.9550\n",
      "Epoch 246/300\n",
      "3201/3201 [==============================] - 1s 164us/step - loss: 0.1420 - acc: 0.9503\n",
      "Epoch 247/300\n",
      "3201/3201 [==============================] - 1s 170us/step - loss: 0.1090 - acc: 0.9650\n",
      "Epoch 248/300\n",
      "3201/3201 [==============================] - 1s 159us/step - loss: 0.0996 - acc: 0.9675\n",
      "Epoch 249/300\n",
      "3201/3201 [==============================] - 0s 156us/step - loss: 0.1171 - acc: 0.9556\n",
      "Epoch 250/300\n",
      "3201/3201 [==============================] - 1s 164us/step - loss: 0.0952 - acc: 0.9722\n",
      "Epoch 251/300\n",
      "3201/3201 [==============================] - 1s 159us/step - loss: 0.1100 - acc: 0.9606\n",
      "Epoch 252/300\n",
      "3201/3201 [==============================] - 1s 162us/step - loss: 0.1455 - acc: 0.9488\n",
      "Epoch 253/300\n",
      "3201/3201 [==============================] - 1s 158us/step - loss: 0.1036 - acc: 0.9638\n",
      "Epoch 254/300\n",
      "3201/3201 [==============================] - 1s 159us/step - loss: 0.1004 - acc: 0.9675\n",
      "Epoch 255/300\n",
      "3201/3201 [==============================] - 1s 163us/step - loss: 0.1121 - acc: 0.9628\n",
      "Epoch 256/300\n",
      "3201/3201 [==============================] - 1s 164us/step - loss: 0.1065 - acc: 0.9622\n",
      "Epoch 257/300\n",
      "1940/3201 [=================>............] - ETA: 0s - loss: 0.1008 - acc: 0.96553201/3201 [==============================] - 1s 167us/step - loss: 0.1156 - acc: 0.9594\n",
      "Epoch 258/300\n",
      "3201/3201 [==============================] - 0s 156us/step - loss: 0.1095 - acc: 0.9606\n",
      "Epoch 259/300\n",
      "3201/3201 [==============================] - 0s 152us/step - loss: 0.0874 - acc: 0.9728\n",
      "Epoch 260/300\n",
      "3201/3201 [==============================] - 0s 156us/step - loss: 0.1003 - acc: 0.9641\n",
      "Epoch 261/300\n",
      "3201/3201 [==============================] - 0s 156us/step - loss: 0.1207 - acc: 0.9581\n",
      "Epoch 262/300\n",
      "3201/3201 [==============================] - 1s 165us/step - loss: 0.1155 - acc: 0.9613\n",
      "Epoch 263/300\n",
      "3201/3201 [==============================] - 1s 158us/step - loss: 0.1376 - acc: 0.9516\n",
      "Epoch 264/300\n",
      "3201/3201 [==============================] - 1s 160us/step - loss: 0.0924 - acc: 0.9681\n",
      "Epoch 265/300\n",
      "3201/3201 [==============================] - 1s 158us/step - loss: 0.1042 - acc: 0.9625\n",
      "Epoch 266/300\n",
      "3201/3201 [==============================] - 1s 158us/step - loss: 0.1032 - acc: 0.9631\n",
      "Epoch 267/300\n",
      "3201/3201 [==============================] - 0s 156us/step - loss: 0.1160 - acc: 0.9600\n",
      "Epoch 268/300\n",
      "3201/3201 [==============================] - 1s 165us/step - loss: 0.0903 - acc: 0.9709\n",
      "Epoch 269/300\n",
      "1350/3201 [===========>..................] - ETA: 0s - loss: 0.0742 - acc: 0.97933201/3201 [==============================] - 0s 156us/step - loss: 0.0800 - acc: 0.9747\n",
      "Epoch 270/300\n",
      "3201/3201 [==============================] - 0s 154us/step - loss: 0.0936 - acc: 0.9694\n",
      "Epoch 271/300\n",
      "3201/3201 [==============================] - 1s 157us/step - loss: 0.0969 - acc: 0.9666\n",
      "Epoch 272/300\n",
      "3201/3201 [==============================] - 1s 158us/step - loss: 0.1322 - acc: 0.9528\n",
      "Epoch 273/300\n",
      "3201/3201 [==============================] - 1s 159us/step - loss: 0.0907 - acc: 0.9697\n",
      "Epoch 274/300\n",
      "3201/3201 [==============================] - 1s 163us/step - loss: 0.0994 - acc: 0.9669\n",
      "Epoch 275/300\n",
      "3201/3201 [==============================] - 1s 165us/step - loss: 0.0925 - acc: 0.9675\n",
      "Epoch 276/300\n",
      "3201/3201 [==============================] - 1s 179us/step - loss: 0.0729 - acc: 0.9794\n",
      "Epoch 277/300\n",
      "3201/3201 [==============================] - 1s 181us/step - loss: 0.0872 - acc: 0.9741\n",
      "Epoch 278/300\n",
      "3201/3201 [==============================] - 1s 173us/step - loss: 0.1488 - acc: 0.9460\n",
      "Epoch 279/300\n",
      "3201/3201 [==============================] - 1s 175us/step - loss: 0.1013 - acc: 0.9666\n",
      "Epoch 280/300\n",
      "3201/3201 [==============================] - 1s 165us/step - loss: 0.0794 - acc: 0.9734\n",
      "Epoch 281/300\n",
      " 920/3201 [=======>......................] - ETA: 0s - loss: 0.0713 - acc: 0.97503201/3201 [==============================] - 1s 166us/step - loss: 0.0955 - acc: 0.9672\n",
      "Epoch 282/300\n",
      "3201/3201 [==============================] - 1s 170us/step - loss: 0.0956 - acc: 0.9672\n",
      "Epoch 283/300\n",
      "3201/3201 [==============================] - 1s 200us/step - loss: 0.1064 - acc: 0.9619\n",
      "Epoch 284/300\n",
      "3201/3201 [==============================] - 1s 219us/step - loss: 0.1017 - acc: 0.9641\n",
      "Epoch 285/300\n",
      "3201/3201 [==============================] - 1s 222us/step - loss: 0.0809 - acc: 0.9756\n",
      "Epoch 286/300\n",
      "3201/3201 [==============================] - 1s 251us/step - loss: 0.0705 - acc: 0.9784\n",
      "Epoch 287/300\n",
      "3201/3201 [==============================] - 1s 197us/step - loss: 0.0918 - acc: 0.9672\n",
      "Epoch 288/300\n",
      "3201/3201 [==============================] - 1s 171us/step - loss: 0.1208 - acc: 0.9581\n",
      "Epoch 289/300\n",
      "3201/3201 [==============================] - 1s 168us/step - loss: 0.0924 - acc: 0.9709\n",
      "Epoch 290/300\n",
      "3201/3201 [==============================] - 1s 167us/step - loss: 0.0969 - acc: 0.9631\n",
      "Epoch 291/300\n",
      "3201/3201 [==============================] - 1s 170us/step - loss: 0.0687 - acc: 0.9791\n",
      "Epoch 292/300\n",
      "3030/3201 [===========================>..] - ETA: 0s - loss: 0.0705 - acc: 0.97893201/3201 [==============================] - 1s 170us/step - loss: 0.0695 - acc: 0.9794\n",
      "Epoch 293/300\n",
      "3201/3201 [==============================] - 1s 164us/step - loss: 0.1299 - acc: 0.9588\n",
      "Epoch 294/300\n",
      "3201/3201 [==============================] - 1s 163us/step - loss: 0.1064 - acc: 0.9616\n",
      "Epoch 295/300\n",
      "3201/3201 [==============================] - 1s 167us/step - loss: 0.0659 - acc: 0.9800\n",
      "Epoch 296/300\n",
      "3201/3201 [==============================] - 1s 171us/step - loss: 0.0735 - acc: 0.9738\n",
      "Epoch 297/300\n",
      "3201/3201 [==============================] - 1s 182us/step - loss: 0.0682 - acc: 0.9772\n",
      "Epoch 298/300\n",
      "3201/3201 [==============================] - 1s 175us/step - loss: 0.0674 - acc: 0.9794\n",
      "Epoch 299/300\n",
      "3201/3201 [==============================] - 1s 169us/step - loss: 0.1360 - acc: 0.9485\n",
      "Epoch 300/300\n",
      "3201/3201 [==============================] - 1s 186us/step - loss: 0.0860 - acc: 0.9700\n"
     ]
    },
    {
     "data": {
      "text/plain": [
       "<keras.callbacks.History at 0x7fc40d5b8b90>"
      ]
     },
     "execution_count": 64,
     "metadata": {
      "tags": []
     },
     "output_type": "execute_result"
    }
   ],
   "source": [
    "# Fitting the ANN to the Training set\n",
    "classifier.fit(X_train, y_train, batch_size = 10, epochs = 300)"
   ]
  },
  {
   "cell_type": "code",
   "execution_count": 65,
   "metadata": {
    "colab": {
     "autoexec": {
      "startup": false,
      "wait_interval": 0
     },
     "base_uri": "https://localhost:8080/",
     "height": 51,
     "output_extras": [
      {
       "item_id": 1
      }
     ]
    },
    "colab_type": "code",
    "executionInfo": {
     "elapsed": 356,
     "status": "ok",
     "timestamp": 1515083389105,
     "user": {
      "displayName": "nab0310",
      "photoUrl": "https://lh3.googleusercontent.com/a/default-user=s128",
      "userId": "114251931762273045585"
     },
     "user_tz": 360
    },
    "id": "KM9wzRYOtcG-",
    "outputId": "f475bf41-9d70-48d4-a7a6-86e08c4b147a"
   },
   "outputs": [
    {
     "name": "stdout",
     "output_type": "stream",
     "text": [
      "[[379  36]\n",
      " [ 97 289]]\n"
     ]
    }
   ],
   "source": [
    "y_pred = classifier.predict(X_test)\n",
    "y_pred = (y_pred > 0.5)\n",
    "\n",
    "# Making the Confusion Matrix\n",
    "from sklearn.metrics import confusion_matrix\n",
    "cm = confusion_matrix(y_test, y_pred)   \n",
    "print cm"
   ]
  },
  {
   "cell_type": "code",
   "execution_count": 0,
   "metadata": {
    "colab": {
     "autoexec": {
      "startup": false,
      "wait_interval": 0
     }
    },
    "colab_type": "code",
    "id": "2PW7cJw4CV_v"
   },
   "outputs": [],
   "source": []
  }
 ],
 "metadata": {
  "colab": {
   "default_view": {},
   "name": "TensorflowWithSpotifyData.ipynb",
   "provenance": [],
   "version": "0.3.2",
   "views": {}
  },
  "kernelspec": {
   "display_name": "Python 3",
   "language": "python",
   "name": "python3"
  },
  "language_info": {
   "codemirror_mode": {
    "name": "ipython",
    "version": 3
   },
   "file_extension": ".py",
   "mimetype": "text/x-python",
   "name": "python",
   "nbconvert_exporter": "python",
   "pygments_lexer": "ipython3",
   "version": "3.5.2"
  }
 },
 "nbformat": 4,
 "nbformat_minor": 1
}
